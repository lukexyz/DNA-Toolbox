{
 "cells": [
  {
   "cell_type": "code",
   "execution_count": 1,
   "metadata": {},
   "outputs": [],
   "source": [
    "import warnings\n",
    "warnings.filterwarnings('ignore')\n",
    "import pandas as pd \n",
    "import numpy as np\n",
    "import matplotlib.pyplot as plt\n",
    "import seaborn as sns\n",
    "\n",
    "pd.options.display.max_rows = 50\n",
    "%matplotlib inline"
   ]
  },
  {
   "cell_type": "markdown",
   "metadata": {},
   "source": [
    "# Biopython Entrez\n",
    "Provides code to access NCBI over the WWW.  \n",
    "\n",
    "[Package info](https://biopython.org/DIST/docs/api/Bio.Entrez-module.html)\n",
    "\n",
    "* `api_key` Personal API key from NCBI. If not set, only 3 queries per second are allowed. 10 queries per seconds otherwise with a valid API key.\n",
    "\n",
    "### 1. Basics"
   ]
  },
  {
   "cell_type": "code",
   "execution_count": 2,
   "metadata": {},
   "outputs": [],
   "source": [
    "from Bio import Entrez"
   ]
  },
  {
   "cell_type": "code",
   "execution_count": 3,
   "metadata": {},
   "outputs": [],
   "source": [
    "from Bio import SeqIO"
   ]
  },
  {
   "cell_type": "code",
   "execution_count": 4,
   "metadata": {},
   "outputs": [
    {
     "data": {
      "text/plain": [
       "'LOCUS       NC_045512              29903 bp ss-RNA     linear   VRL 18-JUL-2020'"
      ]
     },
     "execution_count": 4,
     "metadata": {},
     "output_type": "execute_result"
    }
   ],
   "source": [
    "handle = Entrez.efetch(db=\"nucleotide\", id=\"NC_045512\",\n",
    "                       rettype=\"gb\", retmode=\"text\")\n",
    "handle.readline().strip()"
   ]
  },
  {
   "cell_type": "markdown",
   "metadata": {},
   "source": [
    "### 2. Search via `esearch`"
   ]
  },
  {
   "cell_type": "code",
   "execution_count": 6,
   "metadata": {},
   "outputs": [
    {
     "name": "stdout",
     "output_type": "stream",
     "text": [
      "{'Count': '12266', 'RetMax': '10', 'RetStart': '0', 'IdList': ['NC_045512.2', 'NM_021804.3', 'NM_001371415.1', 'MT773134.1', 'MT773133.1', 'MT772580.1', 'MT772579.1', 'MT772578.1', 'MT772577.1', 'MT772576.1'], 'TranslationSet': [{'From': 'SARS-CoV-2', 'To': '\"Severe acute respiratory syndrome coronavirus 2\"[Organism] OR SARS-CoV-2[All Fields]'}], 'TranslationStack': [{'Term': '\"Severe acute respiratory syndrome coronavirus 2\"[Organism]', 'Field': 'Organism', 'Count': '11145', 'Explode': 'Y'}, {'Term': 'SARS-CoV-2[All Fields]', 'Field': 'All Fields', 'Count': '12266', 'Explode': 'N'}, 'OR', 'GROUP'], 'QueryTranslation': '\"Severe acute respiratory syndrome coronavirus 2\"[Organism] OR SARS-CoV-2[All Fields]'}\n"
     ]
    }
   ],
   "source": [
    "handle = Entrez.esearch(db=\"nucleotide\", retmax=10, term=\"SARS-CoV-2\", idtype=\"acc\")\n",
    "record = Entrez.read(handle)\n",
    "handle.close()\n",
    "print(record)"
   ]
  },
  {
   "cell_type": "markdown",
   "metadata": {},
   "source": [
    "### 3. Method From `coronaversing`\n",
    "To fetch the latest data from NCBI using keywords and a genome size range."
   ]
  },
  {
   "cell_type": "code",
   "execution_count": 7,
   "metadata": {},
   "outputs": [],
   "source": [
    "# data folders\n",
    "root_folder = \"./data/genbank/\"\n",
    "viruses = [\"coronaviridae\"]\n",
    "\n",
    "# file periodically removed to update with the latest data\n",
    "cache_vrs_file = \".cache_vrs.pkl\" \n",
    "cache_cds_file = \".cache_cds.pkl\" \n",
    "cache_regions_file = \".cache_regions.pkl\" \n",
    "\n",
    "hidden_columns = [\"sequence\", \"file_path\", \"strain\", \"collection_date\"]\n",
    "hidden_cds_columns = [\"translation\", \"file_path\", \"location\"]\n",
    "hidden_regions_columns = [\"id\", \"rna\", \"protein\", \"path\"]\n",
    "\n",
    "\n",
    "base_folder = \"../data/genbank/\"\n",
    "# Entrez.email = 'lukedwoods@gmail.com'\n",
    "\n",
    "size_and_date = \"(\\\"25000\\\"[SLEN] : \\\"35000\\\"[SLEN])\"\n",
    "genbank_search_query = {\"coronaviridae\": [\"(\\\"Coronaviridae\\\"[Organism]) AND \" + size_and_date]}\n",
    "\n",
    "def fetch_gb(path, gid):\n",
    "    handle = Entrez.efetch(db=\"nucleotide\", id=gid, rettype=\"gb\")\n",
    "    local_file = open(path + \"/\" + gid + \".gb\", 'w')\n",
    "    local_file.write(handle.read())\n",
    "    handle.close()\n",
    "    local_file.close()\n",
    "\n",
    "genome_files = genbank_search_query\n",
    "viruses = genbank_search_query.keys()"
   ]
  },
  {
   "cell_type": "code",
   "execution_count": 8,
   "metadata": {},
   "outputs": [
    {
     "name": "stdout",
     "output_type": "stream",
     "text": [
      "coronaviridae\n"
     ]
    }
   ],
   "source": [
    "for vrs in viruses:\n",
    "    print(vrs)"
   ]
  },
  {
   "cell_type": "code",
   "execution_count": null,
   "metadata": {},
   "outputs": [],
   "source": [
    "count = 0\n",
    "for vrs in viruses:\n",
    "    \n",
    "    data_folder = base_folder + vrs\n",
    "    if not os.path.exists(data_folder):\n",
    "        os.makedirs(data_folder)\n",
    "    \n",
    "    for keywords in genome_files[vrs]:\n",
    "        handle = Entrez.esearch(db=\"nucleotide\", retmax=5000, term=keywords, idtype=\"acc\")\n",
    "        record = Entrez.read(handle)\n",
    "        ids = record[\"IdList\"]\n",
    "        print(\"[+] got\", len(ids), \"records\")\n",
    "        handle.close()\n",
    "\n",
    "        for genbank_id in ids:\n",
    "            file_name = data_folder + \"/\" + genbank_id + \".gb\"\n",
    "            count += 1\n",
    "            if not os.path.exists(file_name):\n",
    "                print(\"[+]  --- * fetching (\", vrs, \")\", file_name)\n",
    "                downloaded = False\n",
    "                tries = 0\n",
    "                while not downloaded:\n",
    "                    try:\n",
    "                        fetch_gb(data_folder, genbank_id)\n",
    "                        downloaded = True\n",
    "                    except:\n",
    "                        if tries == 5:\n",
    "                            print(\"[+]  --- * couldn't get (\", vrs, \")\", genbank_id)\n",
    "                            break\n",
    "                        tries += 1\n",
    "                        time.sleep(3)\n",
    "                        pass\n",
    "\n",
    "print(\"[+] Collected\", count, \" gb files\")"
   ]
  }
 ],
 "metadata": {
  "kernelspec": {
   "display_name": "Python 3",
   "language": "python",
   "name": "python3"
  },
  "language_info": {
   "codemirror_mode": {
    "name": "ipython",
    "version": 3
   },
   "file_extension": ".py",
   "mimetype": "text/x-python",
   "name": "python",
   "nbconvert_exporter": "python",
   "pygments_lexer": "ipython3",
   "version": "3.7.7"
  }
 },
 "nbformat": 4,
 "nbformat_minor": 4
}
