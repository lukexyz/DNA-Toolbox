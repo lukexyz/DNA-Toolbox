{
 "cells": [
  {
   "cell_type": "markdown",
   "metadata": {},
   "source": [
    "# 🔬 Global `SARS-CoV-2` DNA Sequence Analysis\n",
    "### 🦠 `3631` Sequences of Covid-19 on GenBank\n",
    "\n",
    "Downloads avaliable from The National Library of Medicine [NCBI Virus](https://www.ncbi.nlm.nih.gov/labs/virus/vssi/#/virus?SeqType_s=Nucleotide&VirusLineage_ss=SARS-CoV-2,+taxid:2697049) resource.\n",
    "1. Download all `fasta` nulcleotide sequences\n",
    "2. Download `Current table view` csv for all sequence metadata \n",
    "\n",
    "Sequence data also available from the _China National Center for Bioinformation_ [CNCB](https://bigd.big.ac.cn/ncov/release_genome?lang=en#goto)"
   ]
  },
  {
   "cell_type": "code",
   "execution_count": 68,
   "metadata": {},
   "outputs": [],
   "source": [
    "import warnings\n",
    "warnings.filterwarnings('ignore')\n",
    "import pandas as pd \n",
    "import numpy as np\n",
    "import matplotlib.pyplot as plt\n",
    "import seaborn as sns\n",
    "\n",
    "pd.options.display.max_rows = 50\n",
    "%matplotlib inline\n",
    "\n",
    "from Bio.Seq import Seq\n",
    "from Bio import SeqIO, pairwise2\n",
    "from Bio.pairwise2 import format_alignment"
   ]
  },
  {
   "cell_type": "code",
   "execution_count": 145,
   "metadata": {},
   "outputs": [],
   "source": [
    "from tqdm.notebook import tqdm"
   ]
  },
  {
   "cell_type": "markdown",
   "metadata": {},
   "source": [
    "#### 1. View NCBI Metadata"
   ]
  },
  {
   "cell_type": "code",
   "execution_count": 2,
   "metadata": {
    "scrolled": true
   },
   "outputs": [
    {
     "data": {
      "text/html": [
       "<div>\n",
       "<style scoped>\n",
       "    .dataframe tbody tr th:only-of-type {\n",
       "        vertical-align: middle;\n",
       "    }\n",
       "\n",
       "    .dataframe tbody tr th {\n",
       "        vertical-align: top;\n",
       "    }\n",
       "\n",
       "    .dataframe thead th {\n",
       "        text-align: right;\n",
       "    }\n",
       "</style>\n",
       "<table border=\"1\" class=\"dataframe\">\n",
       "  <thead>\n",
       "    <tr style=\"text-align: right;\">\n",
       "      <th></th>\n",
       "      <th>Accession</th>\n",
       "      <th>Release_Date</th>\n",
       "      <th>Species</th>\n",
       "      <th>Genus</th>\n",
       "      <th>Family</th>\n",
       "      <th>Length</th>\n",
       "      <th>Sequence_Type</th>\n",
       "      <th>Nuc_Completeness</th>\n",
       "      <th>Genotype</th>\n",
       "      <th>Segment</th>\n",
       "      <th>Authors</th>\n",
       "      <th>Publications</th>\n",
       "      <th>Geo_Location</th>\n",
       "      <th>Host</th>\n",
       "      <th>Isolation_Source</th>\n",
       "      <th>Collection_Date</th>\n",
       "      <th>BioSample</th>\n",
       "      <th>GenBank_Title</th>\n",
       "    </tr>\n",
       "  </thead>\n",
       "  <tbody>\n",
       "    <tr>\n",
       "      <th>0</th>\n",
       "      <td>NC_045512</td>\n",
       "      <td>2020-01-13T00:00:00Z</td>\n",
       "      <td>Severe acute respiratory syndrome-related coro...</td>\n",
       "      <td>Betacoronavirus</td>\n",
       "      <td>Coronaviridae</td>\n",
       "      <td>29903</td>\n",
       "      <td>RefSeq</td>\n",
       "      <td>complete</td>\n",
       "      <td>NaN</td>\n",
       "      <td>NaN</td>\n",
       "      <td>Baranov,P.V., Henderson,C.M., Anderson,C.B., G...</td>\n",
       "      <td>15680415, 15630477, 10482585</td>\n",
       "      <td>China</td>\n",
       "      <td>Homo sapiens</td>\n",
       "      <td>NaN</td>\n",
       "      <td>2019-12</td>\n",
       "      <td>NaN</td>\n",
       "      <td>Severe acute respiratory syndrome coronavirus ...</td>\n",
       "    </tr>\n",
       "    <tr>\n",
       "      <th>1</th>\n",
       "      <td>MT459832</td>\n",
       "      <td>2020-05-13T00:00:00Z</td>\n",
       "      <td>Severe acute respiratory syndrome-related coro...</td>\n",
       "      <td>Betacoronavirus</td>\n",
       "      <td>Coronaviridae</td>\n",
       "      <td>29818</td>\n",
       "      <td>GenBank</td>\n",
       "      <td>complete</td>\n",
       "      <td>NaN</td>\n",
       "      <td>NaN</td>\n",
       "      <td>Kassela,K., Dovrolis,N., Bampali,M., Gatzidou,...</td>\n",
       "      <td>NaN</td>\n",
       "      <td>Greece: Athens</td>\n",
       "      <td>Homo sapiens</td>\n",
       "      <td>NaN</td>\n",
       "      <td>2020-03-24</td>\n",
       "      <td>NaN</td>\n",
       "      <td>Severe acute respiratory syndrome coronavirus ...</td>\n",
       "    </tr>\n",
       "  </tbody>\n",
       "</table>\n",
       "</div>"
      ],
      "text/plain": [
       "   Accession          Release_Date  \\\n",
       "0  NC_045512  2020-01-13T00:00:00Z   \n",
       "1   MT459832  2020-05-13T00:00:00Z   \n",
       "\n",
       "                                             Species            Genus  \\\n",
       "0  Severe acute respiratory syndrome-related coro...  Betacoronavirus   \n",
       "1  Severe acute respiratory syndrome-related coro...  Betacoronavirus   \n",
       "\n",
       "          Family  Length Sequence_Type Nuc_Completeness  Genotype  Segment  \\\n",
       "0  Coronaviridae   29903        RefSeq         complete       NaN      NaN   \n",
       "1  Coronaviridae   29818       GenBank         complete       NaN      NaN   \n",
       "\n",
       "                                             Authors  \\\n",
       "0  Baranov,P.V., Henderson,C.M., Anderson,C.B., G...   \n",
       "1  Kassela,K., Dovrolis,N., Bampali,M., Gatzidou,...   \n",
       "\n",
       "                   Publications    Geo_Location          Host  \\\n",
       "0  15680415, 15630477, 10482585           China  Homo sapiens   \n",
       "1                           NaN  Greece: Athens  Homo sapiens   \n",
       "\n",
       "  Isolation_Source Collection_Date BioSample  \\\n",
       "0              NaN         2019-12       NaN   \n",
       "1              NaN      2020-03-24       NaN   \n",
       "\n",
       "                                       GenBank_Title  \n",
       "0  Severe acute respiratory syndrome coronavirus ...  \n",
       "1  Severe acute respiratory syndrome coronavirus ...  "
      ]
     },
     "execution_count": 2,
     "metadata": {},
     "output_type": "execute_result"
    }
   ],
   "source": [
    "df = pd.read_csv('../data/NCBI_sequences_metadata.csv')\n",
    "df.head(2)"
   ]
  },
  {
   "cell_type": "code",
   "execution_count": 16,
   "metadata": {},
   "outputs": [
    {
     "data": {
      "text/plain": [
       "<matplotlib.axes._subplots.AxesSubplot at 0x7fadac638190>"
      ]
     },
     "execution_count": 16,
     "metadata": {},
     "output_type": "execute_result"
    },
    {
     "data": {
      "image/png": "[encoded data removed]",
      "text/plain": [
       "<Figure size 432x288 with 1 Axes>"
      ]
     },
     "metadata": {
      "needs_background": "light"
     },
     "output_type": "display_data"
    }
   ],
   "source": [
    "df.Geo_Location.value_counts().head(20).plot(kind='barh')"
   ]
  },
  {
   "cell_type": "code",
   "execution_count": 17,
   "metadata": {
    "scrolled": false
   },
   "outputs": [
    {
     "data": {
      "text/plain": [
       "Homo sapiens                3610\n",
       "Mustela lutreola              13\n",
       "Canis lupus familiaris         2\n",
       "Felis catus                    2\n",
       "Panthera tigris jacksoni       1\n",
       "Name: Host, dtype: int64"
      ]
     },
     "execution_count": 17,
     "metadata": {},
     "output_type": "execute_result"
    }
   ],
   "source": [
    "df.Host.value_counts()"
   ]
  },
  {
   "cell_type": "markdown",
   "metadata": {},
   "source": [
    "* `Panthera Tigris Jacksoni` is a Malaysian Tiger from the Bronx Zoo in New York  \n",
    "  \n",
    "From WCS Newsroom\n",
    "> On April 5, 2020, we reported that a four-year-old female Malayan tiger had tested positive for COVID-19. We can confirm that the **three other tigers in Tiger Mountain and the three African lions** that exhibited a cough have also **tested positive** for COVID-19."
   ]
  },
  {
   "cell_type": "markdown",
   "metadata": {},
   "source": [
    "#### 2. Parse Sequence Records"
   ]
  },
  {
   "cell_type": "code",
   "execution_count": 18,
   "metadata": {},
   "outputs": [
    {
     "name": "stdout",
     "output_type": "stream",
     "text": [
      "COVID-19 DNA Sequences: 3632\n",
      "CPU times: user 1.03 s, sys: 750 ms, total: 1.78 s\n",
      "Wall time: 1.74 s\n"
     ]
    }
   ],
   "source": [
    "%%time\n",
    "data = SeqIO.index(\"../data/SARS-CoV-2-sequences.fasta\", \"fasta\")"
   ]
  },
  {
   "cell_type": "code",
   "execution_count": 25,
   "metadata": {
    "scrolled": false
   },
   "outputs": [
    {
     "name": "stdout",
     "output_type": "stream",
     "text": [
      "COVID-19 DNA Sequences: 3632\n",
      "\n",
      "0. NC_045512 |Severe acute respiratory syndrome coronavirus 2 isolate Wuhan-Hu-1| complete genome\n",
      "1. MT459832 |Severe acute respiratory syndrome coronavirus 2 isolate SARS-CoV-2/human/GRC/34_36284/2020| complete genome\n",
      "2. MT459833 |Severe acute respiratory syndrome coronavirus 2 isolate SARS-CoV-2/human/GRC/43_35679/2020| complete genome\n",
      "3. MT459834 |Severe acute respiratory syndrome coronavirus 2 isolate SARS-CoV-2/human/GRC/50_36277/2020| complete genome\n"
     ]
    }
   ],
   "source": [
    "# Get accession\n",
    "records = list(data)\n",
    "\n",
    "print(f'COVID-19 DNA Sequences: {len(data)}\\n')\n",
    "for i, record in enumerate(records[:4]):\n",
    "    print(f'{i}. {data[record].description}')"
   ]
  },
  {
   "cell_type": "markdown",
   "metadata": {},
   "source": [
    "#### 3. Create dataset"
   ]
  },
  {
   "cell_type": "code",
   "execution_count": 282,
   "metadata": {},
   "outputs": [
    {
     "name": "stdout",
     "output_type": "stream",
     "text": [
      "Dataframe: (50, 8)\n",
      "CPU times: user 453 ms, sys: 0 ns, total: 453 ms\n",
      "Wall time: 441 ms\n"
     ]
    },
    {
     "data": {
      "text/html": [
       "<div>\n",
       "<style scoped>\n",
       "    .dataframe tbody tr th:only-of-type {\n",
       "        vertical-align: middle;\n",
       "    }\n",
       "\n",
       "    .dataframe tbody tr th {\n",
       "        vertical-align: top;\n",
       "    }\n",
       "\n",
       "    .dataframe thead th {\n",
       "        text-align: right;\n",
       "    }\n",
       "</style>\n",
       "<table border=\"1\" class=\"dataframe\">\n",
       "  <thead>\n",
       "    <tr style=\"text-align: right;\">\n",
       "      <th></th>\n",
       "      <th>Accession</th>\n",
       "      <th>Geo_Location</th>\n",
       "      <th>Collection_Date</th>\n",
       "      <th>Days_Since_Origin</th>\n",
       "      <th>Seq</th>\n",
       "      <th>Len</th>\n",
       "      <th>Proteins</th>\n",
       "      <th>Sequence_diff</th>\n",
       "    </tr>\n",
       "  </thead>\n",
       "  <tbody>\n",
       "    <tr>\n",
       "      <th>0</th>\n",
       "      <td>NC_045512</td>\n",
       "      <td>China</td>\n",
       "      <td>2019-12-29</td>\n",
       "      <td>0</td>\n",
       "      <td>(A, T, T, A, A, A, G, G, T, T, T, A, T, A, C, ...</td>\n",
       "      <td>29903</td>\n",
       "      <td>9967</td>\n",
       "      <td>0</td>\n",
       "    </tr>\n",
       "    <tr>\n",
       "      <th>1</th>\n",
       "      <td>MT253702</td>\n",
       "      <td>China: Zhejiang, Hangzhou</td>\n",
       "      <td>2020-01-21</td>\n",
       "      <td>23</td>\n",
       "      <td>(A, A, C, A, A, A, C, C, A, A, C, C, A, A, C, ...</td>\n",
       "      <td>29818</td>\n",
       "      <td>9939</td>\n",
       "      <td>38</td>\n",
       "    </tr>\n",
       "    <tr>\n",
       "      <th>2</th>\n",
       "      <td>MT415845</td>\n",
       "      <td>China</td>\n",
       "      <td>2020-02-02</td>\n",
       "      <td>35</td>\n",
       "      <td>(A, A, C, A, A, A, C, C, A, A, C, C, A, A, C, ...</td>\n",
       "      <td>29818</td>\n",
       "      <td>9939</td>\n",
       "      <td>49</td>\n",
       "    </tr>\n",
       "    <tr>\n",
       "      <th>3</th>\n",
       "      <td>MT081068</td>\n",
       "      <td>China: HuaShang</td>\n",
       "      <td>2020-02-06</td>\n",
       "      <td>39</td>\n",
       "      <td>(A, A, C, A, A, A, C, C, A, A, C, C, A, A, C, ...</td>\n",
       "      <td>29818</td>\n",
       "      <td>9939</td>\n",
       "      <td>33</td>\n",
       "    </tr>\n",
       "    <tr>\n",
       "      <th>4</th>\n",
       "      <td>MT419859</td>\n",
       "      <td>USA: CA</td>\n",
       "      <td>2020-03-08</td>\n",
       "      <td>70</td>\n",
       "      <td>(A, A, C, A, A, A, C, C, A, A, C, C, A, A, C, ...</td>\n",
       "      <td>29818</td>\n",
       "      <td>9939</td>\n",
       "      <td>50</td>\n",
       "    </tr>\n",
       "  </tbody>\n",
       "</table>\n",
       "</div>"
      ],
      "text/plain": [
       "   Accession               Geo_Location Collection_Date  Days_Since_Origin  \\\n",
       "0  NC_045512                      China      2019-12-29                  0   \n",
       "1   MT253702  China: Zhejiang, Hangzhou      2020-01-21                 23   \n",
       "2   MT415845                      China      2020-02-02                 35   \n",
       "3   MT081068            China: HuaShang      2020-02-06                 39   \n",
       "4   MT419859                    USA: CA      2020-03-08                 70   \n",
       "\n",
       "                                                 Seq    Len  Proteins  \\\n",
       "0  (A, T, T, A, A, A, G, G, T, T, T, A, T, A, C, ...  29903      9967   \n",
       "1  (A, A, C, A, A, A, C, C, A, A, C, C, A, A, C, ...  29818      9939   \n",
       "2  (A, A, C, A, A, A, C, C, A, A, C, C, A, A, C, ...  29818      9939   \n",
       "3  (A, A, C, A, A, A, C, C, A, A, C, C, A, A, C, ...  29818      9939   \n",
       "4  (A, A, C, A, A, A, C, C, A, A, C, C, A, A, C, ...  29818      9939   \n",
       "\n",
       "   Sequence_diff  \n",
       "0              0  \n",
       "1             38  \n",
       "2             49  \n",
       "3             33  \n",
       "4             50  "
      ]
     },
     "execution_count": 282,
     "metadata": {},
     "output_type": "execute_result"
    }
   ],
   "source": [
    "%%time\n",
    "\n",
    "def load_dataset(n_samples='full'):\n",
    "    keep_cols = ['Accession', 'Geo_Location', 'Collection_Date']\n",
    "    if n_samples == 'full':\n",
    "        df = pd.read_csv('../data/NCBI_sequences_metadata.csv')\n",
    "    else:\n",
    "        df = pd.concat([pd.read_csv('../data/NCBI_sequences_metadata.csv', nrows=1), \n",
    "                        pd.read_csv('../data/NCBI_sequences_metadata.csv') \\\n",
    "                          .sample(n_samples-1, random_state=1)])[keep_cols]\n",
    "\n",
    "    df['Collection_Date'] = pd.to_datetime(df.Collection_Date)\n",
    "    df.at[0, 'Collection_Date'] = pd.to_datetime('2019-12-29')\n",
    "    df = df.sort_values('Collection_Date', ascending=True).reset_index(drop=True)\n",
    "    df['Days_Since_Origin'] = (df['Collection_Date'] - pd.to_datetime('2019-12-29')).dt.days\n",
    "    df['Seq'] = [data[rec].seq for rec in list(data)[:n_samples]]\n",
    "    df['Len'] = df.Seq.apply(lambda x: len(x))\n",
    "    df['Proteins'] = df.Seq.apply(lambda s: len(s.translate()))\n",
    "    return df\n",
    "\n",
    "load_dataset(n_samples=50)\n",
    "print('Dataframe:', df.shape)\n",
    "df.head()"
   ]
  },
  {
   "cell_type": "markdown",
   "metadata": {},
   "source": [
    "#### Sequence Alignment\n",
    "* `Global alignment` finds the best concordance/agreement between all characters in two sequences\n",
    "* `Local Alignment` finds just the subsequences that align the best"
   ]
  },
  {
   "cell_type": "code",
   "execution_count": 283,
   "metadata": {},
   "outputs": [
    {
     "name": "stdout",
     "output_type": "stream",
     "text": [
      "Pairwise alignment: 1000/1000 (100.00%)\n",
      "Number of sequence differences: 0\n"
     ]
    },
    {
     "data": {
      "text/plain": [
       "0"
      ]
     },
     "execution_count": 283,
     "metadata": {},
     "output_type": "execute_result"
    }
   ],
   "source": [
    "def pairwise_alignment(s1, s2, n, verbose=True):\n",
    "    if n == 'full': n = min(len(s1), len(s2))\n",
    "    alignment = pairwise2.align.globalxx(s1[0:n], s2[0:n], one_alignment_only=True, score_only=True)\n",
    "    if verbose:\n",
    "        print(f'Pairwise alignment: {alignment:.0f}/{n} ({(alignment/n)*100:0.2f}%)')\n",
    "        print(f'Number of sequence differences: {int(n-alignment)}')\n",
    "    return int(n-alignment)\n",
    "    \n",
    "# Sequence differences in samples:\n",
    "pairwise_alignment(df.Seq[1], df.Seq[2], n=1000)"
   ]
  },
  {
   "cell_type": "code",
   "execution_count": 267,
   "metadata": {},
   "outputs": [
    {
     "data": {
      "application/vnd.jupyter.widget-view+json": {
       "model_id": "95a3f7fe92d34bc9bfb62560d4981835",
       "version_major": 2,
       "version_minor": 0
      },
      "text/plain": [
       "HBox(children=(FloatProgress(value=0.0, max=50.0), HTML(value='')))"
      ]
     },
     "metadata": {},
     "output_type": "display_data"
    },
    {
     "name": "stdout",
     "output_type": "stream",
     "text": [
      "\n"
     ]
    }
   ],
   "source": [
    "# Run sequence alignment against origin sample (slow)\n",
    "res = []\n",
    "for i in tqdm(range(len(df))):\n",
    "    res.append(pairwise_alignment(df.Seq[0], df.Seq[i], n='full', verbose=False))\n",
    "\n",
    "df['Sequence_diff'] = pd.Series(res)\n",
    "df.head()"
   ]
  },
  {
   "cell_type": "code",
   "execution_count": 284,
   "metadata": {},
   "outputs": [],
   "source": [
    "df['Sequence_diff'] = pd.Series(res)"
   ]
  },
  {
   "cell_type": "code",
   "execution_count": 333,
   "metadata": {},
   "outputs": [
    {
     "data": {
      "text/plain": [
       "<seaborn.axisgrid.FacetGrid at 0x7fad9273f490>"
      ]
     },
     "execution_count": 333,
     "metadata": {},
     "output_type": "execute_result"
    },
    {
     "data": {
      "image/png": "[encoded data removed]",
      "text/plain": [
       "<Figure size 360x360 with 1 Axes>"
      ]
     },
     "metadata": {},
     "output_type": "display_data"
    }
   ],
   "source": [
    "#ax = sns.scatterplot(data=df[['Collection_Date', 'Sequence_diff']].sort_values('Collection_Date', ascending=True))\n",
    "\n",
    "sns.lmplot(x=\"Days_Since_Origin\", y=\"Sequence_diff\", data=df)"
   ]
  },
  {
   "cell_type": "code",
   "execution_count": 331,
   "metadata": {},
   "outputs": [
    {
     "data": {
      "image/png": "[encoded data removed]",
      "text/plain": [
       "<Figure size 504x504 with 3 Axes>"
      ]
     },
     "metadata": {},
     "output_type": "display_data"
    }
   ],
   "source": [
    "sns.set(style=\"darkgrid\")\n",
    "g = sns.jointplot(x=\"Days_Since_Origin\", y=\"Sequence_diff\", data=df,\n",
    "                  kind=\"reg\", truncate=False,\n",
    "                  xlim=(-5, df.Days_Since_Origin.max()+5), \n",
    "                  ylim=(-5, df.Sequence_diff.max()+5),\n",
    "                  color=\"m\", height=7)"
   ]
  },
  {
   "cell_type": "markdown",
   "metadata": {},
   "source": [
    "> The other bit of information to come out of this study is an indication of where changes in the virus' proteins are tolerated. **This inability to tolerate changes in an area of the genome tends to be an indication that the protein encoded by that part of the genome has an essential function.** The researchers identified a number of these, one of which is the part of the spike protein that came from the pangolin virus.    \n",
    "\n",
    ">Of all 6,400 of the SARS-CoV-2 genomes isolated during the pandemic, **only eight from a single cluster of cases had any changes in this region.** So, it's looking likely that the pangolin sequence is essential for the virus' ability to target humans.\n",
    "\n",
    "John Timmer, 6/2/2020. Arstechnica. [SARS-CoV-2 looks like a hybrid of viruses from two different species](https://arstechnica.com/science/2020/06/sars-cov-2-looks-like-a-hybrid-of-viruses-from-two-different-species/)\n",
    "\n",
    "Science Advances, 2019. [DOI: 10.1126/sciadv.abb9153](https://advances.sciencemag.org/content/early/2020/05/28/sciadv.abb9153)"
   ]
  },
  {
   "cell_type": "code",
   "execution_count": null,
   "metadata": {},
   "outputs": [],
   "source": []
  },
  {
   "cell_type": "code",
   "execution_count": null,
   "metadata": {},
   "outputs": [],
   "source": []
  },
  {
   "cell_type": "code",
   "execution_count": null,
   "metadata": {},
   "outputs": [],
   "source": []
  },
  {
   "cell_type": "markdown",
   "metadata": {},
   "source": [
    "\n",
    "> A key stretch of the spike protein, the one that determines which proteins on human cells it   \n",
    "interacts with, **came from a pangolin version of the virus** through recombination.\n",
    "\n",
    "* TODO: Find the area that has very few mutations, find the spike protein"
   ]
  },
  {
   "cell_type": "code",
   "execution_count": 113,
   "metadata": {},
   "outputs": [
    {
     "name": "stdout",
     "output_type": "stream",
     "text": [
      "Pairwise alignment: 29780/29818 (99.9%)\n"
     ]
    }
   ],
   "source": [
    "pairwise_alignment(df.Seq[0], df.Seq[1], n='full')"
   ]
  },
  {
   "cell_type": "code",
   "execution_count": 108,
   "metadata": {},
   "outputs": [
    {
     "name": "stdout",
     "output_type": "stream",
     "text": [
      "Pairwise alignment: 29801/29818 (99.9%)\n"
     ]
    }
   ],
   "source": [
    "pairwise_alignment(df.Seq[2], df.Seq[11], n='full')"
   ]
  },
  {
   "cell_type": "code",
   "execution_count": 109,
   "metadata": {},
   "outputs": [
    {
     "name": "stdout",
     "output_type": "stream",
     "text": [
      "Pairwise alignment: 29808/29818 (100.0%)\n"
     ]
    }
   ],
   "source": [
    "pairwise_alignment(df.Seq[3], df.Seq[33], n='full')"
   ]
  },
  {
   "cell_type": "code",
   "execution_count": 110,
   "metadata": {},
   "outputs": [
    {
     "name": "stdout",
     "output_type": "stream",
     "text": [
      "Pairwise alignment: 29643/29818 (99.4%)\n"
     ]
    }
   ],
   "source": [
    "pairwise_alignment(df.Seq[44], df.Seq[88], n='full')"
   ]
  },
  {
   "cell_type": "code",
   "execution_count": 111,
   "metadata": {},
   "outputs": [
    {
     "name": "stdout",
     "output_type": "stream",
     "text": [
      "Pairwise alignment: 29871/29890 (99.9%)\n"
     ]
    }
   ],
   "source": [
    "pairwise_alignment(df.Seq[0], df.Seq[99], n='full')"
   ]
  },
  {
   "cell_type": "code",
   "execution_count": 9,
   "metadata": {},
   "outputs": [
    {
     "data": {
      "text/plain": [
       "Seq('ATTAAAGGTTTATACCTTCCCAGGTAACAAACCAACCAACTTTCGATCTCTTGT...AAA', SingleLetterAlphabet())"
      ]
     },
     "execution_count": 9,
     "metadata": {},
     "output_type": "execute_result"
    }
   ],
   "source": [
    "# Noteworthy records\n",
    "patient_zero = 'NC_045512'\n",
    "recent_cali = 'MT460092'\n",
    "bronx_tiger = 'MT365033'\n",
    "\n",
    "samples = [patient_zero, recent_cali, bronx_tiger]\n",
    "\n",
    "data[patient_zero].seq"
   ]
  },
  {
   "cell_type": "code",
   "execution_count": 10,
   "metadata": {
    "scrolled": true
   },
   "outputs": [
    {
     "data": {
      "text/plain": [
       "Seq('GGTTTATACCTTCCCAGGTAACAAACCAACCAACTTTCGATCTCTTGTAGATCT...AAA', SingleLetterAlphabet())"
      ]
     },
     "execution_count": 10,
     "metadata": {},
     "output_type": "execute_result"
    }
   ],
   "source": [
    "data[bronx_tiger].seq"
   ]
  },
  {
   "cell_type": "code",
   "execution_count": 11,
   "metadata": {},
   "outputs": [
    {
     "data": {
      "text/html": [
       "<div>\n",
       "<style scoped>\n",
       "    .dataframe tbody tr th:only-of-type {\n",
       "        vertical-align: middle;\n",
       "    }\n",
       "\n",
       "    .dataframe tbody tr th {\n",
       "        vertical-align: top;\n",
       "    }\n",
       "\n",
       "    .dataframe thead th {\n",
       "        text-align: right;\n",
       "    }\n",
       "</style>\n",
       "<table border=\"1\" class=\"dataframe\">\n",
       "  <thead>\n",
       "    <tr style=\"text-align: right;\">\n",
       "      <th></th>\n",
       "      <th>Accession</th>\n",
       "      <th>Release_Date</th>\n",
       "      <th>Species</th>\n",
       "      <th>Genus</th>\n",
       "      <th>Family</th>\n",
       "      <th>Length</th>\n",
       "      <th>Sequence_Type</th>\n",
       "      <th>Nuc_Completeness</th>\n",
       "      <th>Genotype</th>\n",
       "      <th>Segment</th>\n",
       "      <th>Authors</th>\n",
       "      <th>Publications</th>\n",
       "      <th>Geo_Location</th>\n",
       "      <th>Host</th>\n",
       "      <th>Isolation_Source</th>\n",
       "      <th>Collection_Date</th>\n",
       "      <th>BioSample</th>\n",
       "      <th>GenBank_Title</th>\n",
       "    </tr>\n",
       "  </thead>\n",
       "  <tbody>\n",
       "    <tr>\n",
       "      <th>0</th>\n",
       "      <td>NC_045512</td>\n",
       "      <td>2020-01-13T00:00:00Z</td>\n",
       "      <td>Severe acute respiratory syndrome-related coro...</td>\n",
       "      <td>Betacoronavirus</td>\n",
       "      <td>Coronaviridae</td>\n",
       "      <td>29903</td>\n",
       "      <td>RefSeq</td>\n",
       "      <td>complete</td>\n",
       "      <td>NaN</td>\n",
       "      <td>NaN</td>\n",
       "      <td>Baranov,P.V., Henderson,C.M., Anderson,C.B., G...</td>\n",
       "      <td>15680415, 15630477, 10482585</td>\n",
       "      <td>China</td>\n",
       "      <td>Homo sapiens</td>\n",
       "      <td>NaN</td>\n",
       "      <td>2019-12</td>\n",
       "      <td>NaN</td>\n",
       "      <td>Severe acute respiratory syndrome coronavirus ...</td>\n",
       "    </tr>\n",
       "    <tr>\n",
       "      <th>106</th>\n",
       "      <td>MT460092</td>\n",
       "      <td>2020-05-13T00:00:00Z</td>\n",
       "      <td>Severe acute respiratory syndrome-related coro...</td>\n",
       "      <td>Betacoronavirus</td>\n",
       "      <td>Coronaviridae</td>\n",
       "      <td>29857</td>\n",
       "      <td>GenBank</td>\n",
       "      <td>complete</td>\n",
       "      <td>NaN</td>\n",
       "      <td>NaN</td>\n",
       "      <td>CZB Cliahub Consortium,C.C.C.</td>\n",
       "      <td>NaN</td>\n",
       "      <td>USA: CA</td>\n",
       "      <td>Homo sapiens</td>\n",
       "      <td>NaN</td>\n",
       "      <td>2020-05-01</td>\n",
       "      <td>NaN</td>\n",
       "      <td>Severe acute respiratory syndrome coronavirus ...</td>\n",
       "    </tr>\n",
       "    <tr>\n",
       "      <th>2125</th>\n",
       "      <td>MT365033</td>\n",
       "      <td>2020-04-24T00:00:00Z</td>\n",
       "      <td>Severe acute respiratory syndrome-related coro...</td>\n",
       "      <td>Betacoronavirus</td>\n",
       "      <td>Coronaviridae</td>\n",
       "      <td>29897</td>\n",
       "      <td>GenBank</td>\n",
       "      <td>complete</td>\n",
       "      <td>NaN</td>\n",
       "      <td>NaN</td>\n",
       "      <td>Mitchell,P., Anderson,R.R., Chilson,B., Venugo...</td>\n",
       "      <td>NaN</td>\n",
       "      <td>USA: New York</td>\n",
       "      <td>Panthera tigris jacksoni</td>\n",
       "      <td>oronasopharynx, oronasopharynx</td>\n",
       "      <td>2020-04-02</td>\n",
       "      <td>NaN</td>\n",
       "      <td>Severe acute respiratory syndrome coronavirus ...</td>\n",
       "    </tr>\n",
       "  </tbody>\n",
       "</table>\n",
       "</div>"
      ],
      "text/plain": [
       "      Accession          Release_Date  \\\n",
       "0     NC_045512  2020-01-13T00:00:00Z   \n",
       "106    MT460092  2020-05-13T00:00:00Z   \n",
       "2125   MT365033  2020-04-24T00:00:00Z   \n",
       "\n",
       "                                                Species            Genus  \\\n",
       "0     Severe acute respiratory syndrome-related coro...  Betacoronavirus   \n",
       "106   Severe acute respiratory syndrome-related coro...  Betacoronavirus   \n",
       "2125  Severe acute respiratory syndrome-related coro...  Betacoronavirus   \n",
       "\n",
       "             Family  Length Sequence_Type Nuc_Completeness  Genotype  Segment  \\\n",
       "0     Coronaviridae   29903        RefSeq         complete       NaN      NaN   \n",
       "106   Coronaviridae   29857       GenBank         complete       NaN      NaN   \n",
       "2125  Coronaviridae   29897       GenBank         complete       NaN      NaN   \n",
       "\n",
       "                                                Authors  \\\n",
       "0     Baranov,P.V., Henderson,C.M., Anderson,C.B., G...   \n",
       "106                       CZB Cliahub Consortium,C.C.C.   \n",
       "2125  Mitchell,P., Anderson,R.R., Chilson,B., Venugo...   \n",
       "\n",
       "                      Publications   Geo_Location                      Host  \\\n",
       "0     15680415, 15630477, 10482585          China              Homo sapiens   \n",
       "106                            NaN        USA: CA              Homo sapiens   \n",
       "2125                           NaN  USA: New York  Panthera tigris jacksoni   \n",
       "\n",
       "                    Isolation_Source Collection_Date BioSample  \\\n",
       "0                                NaN         2019-12       NaN   \n",
       "106                              NaN      2020-05-01       NaN   \n",
       "2125  oronasopharynx, oronasopharynx      2020-04-02       NaN   \n",
       "\n",
       "                                          GenBank_Title  \n",
       "0     Severe acute respiratory syndrome coronavirus ...  \n",
       "106   Severe acute respiratory syndrome coronavirus ...  \n",
       "2125  Severe acute respiratory syndrome coronavirus ...  "
      ]
     },
     "execution_count": 11,
     "metadata": {},
     "output_type": "execute_result"
    }
   ],
   "source": [
    "df[df.Accession.isin(samples)]"
   ]
  },
  {
   "cell_type": "code",
   "execution_count": 12,
   "metadata": {},
   "outputs": [],
   "source": [
    "from Bio.SeqUtils.ProtParam import ProteinAnalysis\n",
    "from collections import Counter"
   ]
  },
  {
   "cell_type": "code",
   "execution_count": 13,
   "metadata": {},
   "outputs": [
    {
     "data": {
      "text/plain": [
       "Seq('SQVTNQPTFDLL*ICSLNEL*NLCGCHSAACLVHSRSIINN*LLSLTGHE*LVY...NDK', HasStopCodon(ExtendedIUPACProtein(), '*'))"
      ]
     },
     "execution_count": 13,
     "metadata": {},
     "output_type": "execute_result"
    }
   ],
   "source": [
    "# DNA to mRNA to Polypeptide (protein)\n",
    "data[recent_cali].seq.transcribe().translate()"
   ]
  },
  {
   "cell_type": "code",
   "execution_count": 14,
   "metadata": {},
   "outputs": [
    {
     "name": "stdout",
     "output_type": "stream",
     "text": [
      "NC_045512\n",
      "IKGLYLPR*QTNQLSISCRSVL*TNFKICVAVTRLHA*CTHAV*LITNYCR*QDTSNSSIFCRLLTVSSVLQPIISTSRFRPGVTER*DGEPCPWFQREN\n",
      "MT460092\n",
      "SQVTNQPTFDLL*ICSLNEL*NLCGCHSAACLVHSRSIINN*LLSLTGHE*LVYLLQAAYGFVRVAADHQHI*VSSGCDRKVRWRALSLVSTRKHTSNSV\n",
      "MT365033\n",
      "GLYLPR*QTNQLSISCRSVL*TNFKICVAVTRLHA*CTHAV*LITNYCR*QDTSNSSIFCRLLTVSSVLQPIISTSRFCPGVTER*DGEPCPWFQRENTR\n"
     ]
    }
   ],
   "source": [
    "for s in samples:\n",
    "    print(s)\n",
    "    print(data[s].seq.transcribe().translate()[:100])"
   ]
  },
  {
   "cell_type": "code",
   "execution_count": 34,
   "metadata": {},
   "outputs": [
    {
     "data": {
      "text/plain": [
       "Seq('GLYLPR*QTNQLSISCRSVL*TNFKICVAVTRLHA*CTHAV*LITNYCR*QDTS...KKK', HasStopCodon(ExtendedIUPACProtein(), '*'))"
      ]
     },
     "execution_count": 34,
     "metadata": {},
     "output_type": "execute_result"
    }
   ],
   "source": [
    "data[bronx_tiger].seq.transcribe().translate()"
   ]
  },
  {
   "cell_type": "markdown",
   "metadata": {},
   "source": [
    "### Dot Plots of Opening Sequences"
   ]
  },
  {
   "cell_type": "code",
   "execution_count": 114,
   "metadata": {},
   "outputs": [],
   "source": [
    "def delta(x,y):\n",
    "    return 0 if x == y else 1\n",
    "\n",
    "def M(seq1,seq2,i,j,k):\n",
    "    return sum(delta(x,y) for x,y in zip(seq1[i:i+k],seq2[j:j+k]))\n",
    "\n",
    "def makeMatrix(seq1,seq2,k):\n",
    "    n = len(seq1)\n",
    "    m = len(seq2)\n",
    "    return [[M(seq1,seq2,i,j,k) for j in range(m-k+1)] for i in range(n-k+1)]\n",
    "\n",
    "def plotMatrix(M,t, seq1, seq2, nonblank = chr(0x25A0), blank = ' '):\n",
    "    print(' |' + seq2)\n",
    "    print('-'*(2 + len(seq2)))\n",
    "    for label,row in zip(seq1,M):\n",
    "        line = ''.join(nonblank if s < t else blank for s in row)\n",
    "        print(label + '|' + line)\n",
    "\n",
    "def dotplot(seq1,seq2,k = 1,t = 1):\n",
    "    M = makeMatrix(seq1,seq2,k)\n",
    "    plotMatrix(M, t, seq1,seq2) #experiment with character choice"
   ]
  },
  {
   "cell_type": "code",
   "execution_count": 119,
   "metadata": {},
   "outputs": [
    {
     "data": {
      "image/png": "[encoded data removed]",
      "text/plain": [
       "<Figure size 432x288 with 1 Axes>"
      ]
     },
     "metadata": {
      "needs_background": "light"
     },
     "output_type": "display_data"
    }
   ],
   "source": [
    "# Plotting function to illustrate deeper matches\n",
    "\n",
    "def dotplotx(seq1, seq2, n):\n",
    "    seq1=seq1[0:n]\n",
    "    seq2=seq2[0:n]\n",
    "    plt.imshow(np.array(makeMatrix(seq1,seq2,1)))\n",
    "    # on x-axis list all sequences of seq 2\n",
    "    xt=plt.xticks(np.arange(len(list(seq2))),list(seq2))\n",
    "    # on y-axis list all sequences of seq 1\n",
    "    yt=plt.yticks(np.arange(len(list(seq1))),list(seq1))\n",
    "    plt.show()\n",
    "    \n",
    "dotplotx(df.Seq[1].transcribe().translate(),\n",
    "         df.Seq[3].transcribe().translate(), n=100)"
   ]
  },
  {
   "cell_type": "code",
   "execution_count": null,
   "metadata": {},
   "outputs": [],
   "source": []
  }
 ],
 "metadata": {
  "kernelspec": {
   "display_name": "Python 3",
   "language": "python",
   "name": "python3"
  },
  "language_info": {
   "codemirror_mode": {
    "name": "ipython",
    "version": 3
   },
   "file_extension": ".py",
   "mimetype": "text/x-python",
   "name": "python",
   "nbconvert_exporter": "python",
   "pygments_lexer": "ipython3",
   "version": "3.7.7"
  }
 },
 "nbformat": 4,
 "nbformat_minor": 4
}
