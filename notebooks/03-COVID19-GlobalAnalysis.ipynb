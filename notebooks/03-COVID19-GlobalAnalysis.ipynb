{
 "cells": [
  {
   "cell_type": "markdown",
   "metadata": {},
   "source": [
    "# 🔬 Global `SARS-CoV-2` DNA Sequence Analysis\n",
    "### 🦠 `3631` Sequences of Covid-19 on GenBank\n",
    "\n",
    "Downloads avaliable from The National Library of Medicine [NCBI Virus](https://www.ncbi.nlm.nih.gov/labs/virus/vssi/#/virus?SeqType_s=Nucleotide&VirusLineage_ss=SARS-CoV-2,+taxid:2697049) resource.\n",
    "1. Download all `fasta` nulcleotide sequences\n",
    "2. Download `Current table view` csv for all sequence metadata \n",
    "\n",
    "Sequence data also available from the _China National Center for Bioinformation_ [CNCB](https://bigd.big.ac.cn/ncov/release_genome?lang=en#goto)"
   ]
  },
  {
   "cell_type": "code",
   "execution_count": 170,
   "metadata": {},
   "outputs": [],
   "source": [
    "import warnings\n",
    "warnings.filterwarnings('ignore')\n",
    "import pandas as pd \n",
    "import numpy as np\n",
    "import matplotlib.pyplot as plt\n",
    "import seaborn as sns\n",
    "pd.options.display.max_rows = 50\n",
    "%matplotlib inline\n",
    "\n",
    "from Bio.Seq import Seq\n",
    "from Bio import SeqIO"
   ]
  },
  {
   "cell_type": "markdown",
   "metadata": {},
   "source": [
    "#### 1. View NCBI Metadata"
   ]
  },
  {
   "cell_type": "code",
   "execution_count": 137,
   "metadata": {
    "scrolled": true
   },
   "outputs": [
    {
     "data": {
      "text/html": [
       "<div>\n",
       "<style scoped>\n",
       "    .dataframe tbody tr th:only-of-type {\n",
       "        vertical-align: middle;\n",
       "    }\n",
       "\n",
       "    .dataframe tbody tr th {\n",
       "        vertical-align: top;\n",
       "    }\n",
       "\n",
       "    .dataframe thead th {\n",
       "        text-align: right;\n",
       "    }\n",
       "</style>\n",
       "<table border=\"1\" class=\"dataframe\">\n",
       "  <thead>\n",
       "    <tr style=\"text-align: right;\">\n",
       "      <th></th>\n",
       "      <th>Accession</th>\n",
       "      <th>Release_Date</th>\n",
       "      <th>Species</th>\n",
       "      <th>Genus</th>\n",
       "      <th>Family</th>\n",
       "      <th>Length</th>\n",
       "      <th>Sequence_Type</th>\n",
       "      <th>Nuc_Completeness</th>\n",
       "      <th>Genotype</th>\n",
       "      <th>Segment</th>\n",
       "      <th>Authors</th>\n",
       "      <th>Publications</th>\n",
       "      <th>Geo_Location</th>\n",
       "      <th>Host</th>\n",
       "      <th>Isolation_Source</th>\n",
       "      <th>Collection_Date</th>\n",
       "      <th>BioSample</th>\n",
       "      <th>GenBank_Title</th>\n",
       "    </tr>\n",
       "  </thead>\n",
       "  <tbody>\n",
       "    <tr>\n",
       "      <th>0</th>\n",
       "      <td>NC_045512</td>\n",
       "      <td>2020-01-13T00:00:00Z</td>\n",
       "      <td>Severe acute respiratory syndrome-related coro...</td>\n",
       "      <td>Betacoronavirus</td>\n",
       "      <td>Coronaviridae</td>\n",
       "      <td>29903</td>\n",
       "      <td>RefSeq</td>\n",
       "      <td>complete</td>\n",
       "      <td>NaN</td>\n",
       "      <td>NaN</td>\n",
       "      <td>Baranov,P.V., Henderson,C.M., Anderson,C.B., G...</td>\n",
       "      <td>15680415, 15630477, 10482585</td>\n",
       "      <td>China</td>\n",
       "      <td>Homo sapiens</td>\n",
       "      <td>NaN</td>\n",
       "      <td>2019-12</td>\n",
       "      <td>NaN</td>\n",
       "      <td>Severe acute respiratory syndrome coronavirus ...</td>\n",
       "    </tr>\n",
       "    <tr>\n",
       "      <th>1</th>\n",
       "      <td>MT459832</td>\n",
       "      <td>2020-05-13T00:00:00Z</td>\n",
       "      <td>Severe acute respiratory syndrome-related coro...</td>\n",
       "      <td>Betacoronavirus</td>\n",
       "      <td>Coronaviridae</td>\n",
       "      <td>29818</td>\n",
       "      <td>GenBank</td>\n",
       "      <td>complete</td>\n",
       "      <td>NaN</td>\n",
       "      <td>NaN</td>\n",
       "      <td>Kassela,K., Dovrolis,N., Bampali,M., Gatzidou,...</td>\n",
       "      <td>NaN</td>\n",
       "      <td>Greece: Athens</td>\n",
       "      <td>Homo sapiens</td>\n",
       "      <td>NaN</td>\n",
       "      <td>2020-03-24</td>\n",
       "      <td>NaN</td>\n",
       "      <td>Severe acute respiratory syndrome coronavirus ...</td>\n",
       "    </tr>\n",
       "  </tbody>\n",
       "</table>\n",
       "</div>"
      ],
      "text/plain": [
       "   Accession          Release_Date  \\\n",
       "0  NC_045512  2020-01-13T00:00:00Z   \n",
       "1   MT459832  2020-05-13T00:00:00Z   \n",
       "\n",
       "                                             Species            Genus  \\\n",
       "0  Severe acute respiratory syndrome-related coro...  Betacoronavirus   \n",
       "1  Severe acute respiratory syndrome-related coro...  Betacoronavirus   \n",
       "\n",
       "          Family  Length Sequence_Type Nuc_Completeness  Genotype  Segment  \\\n",
       "0  Coronaviridae   29903        RefSeq         complete       NaN      NaN   \n",
       "1  Coronaviridae   29818       GenBank         complete       NaN      NaN   \n",
       "\n",
       "                                             Authors  \\\n",
       "0  Baranov,P.V., Henderson,C.M., Anderson,C.B., G...   \n",
       "1  Kassela,K., Dovrolis,N., Bampali,M., Gatzidou,...   \n",
       "\n",
       "                   Publications    Geo_Location          Host  \\\n",
       "0  15680415, 15630477, 10482585           China  Homo sapiens   \n",
       "1                           NaN  Greece: Athens  Homo sapiens   \n",
       "\n",
       "  Isolation_Source Collection_Date BioSample  \\\n",
       "0              NaN         2019-12       NaN   \n",
       "1              NaN      2020-03-24       NaN   \n",
       "\n",
       "                                       GenBank_Title  \n",
       "0  Severe acute respiratory syndrome coronavirus ...  \n",
       "1  Severe acute respiratory syndrome coronavirus ...  "
      ]
     },
     "execution_count": 137,
     "metadata": {},
     "output_type": "execute_result"
    }
   ],
   "source": [
    "df = pd.read_csv('../data/NCBI_sequences_metadata.csv')\n",
    "df.head(2)"
   ]
  },
  {
   "cell_type": "code",
   "execution_count": 138,
   "metadata": {},
   "outputs": [
    {
     "data": {
      "text/plain": [
       "<matplotlib.axes._subplots.AxesSubplot at 0x7fcc57252130>"
      ]
     },
     "execution_count": 138,
     "metadata": {},
     "output_type": "execute_result"
    },
    {
     "data": {
      "image/png": "[encoded data removed]",
      "text/plain": [
       "<Figure size 432x288 with 1 Axes>"
      ]
     },
     "metadata": {
      "needs_background": "light"
     },
     "output_type": "display_data"
    }
   ],
   "source": [
    "df.Geo_Location.value_counts().head(20).plot(kind='barh')"
   ]
  },
  {
   "cell_type": "code",
   "execution_count": 139,
   "metadata": {
    "scrolled": false
   },
   "outputs": [
    {
     "data": {
      "text/plain": [
       "Homo sapiens                3610\n",
       "Mustela lutreola              13\n",
       "Canis lupus familiaris         2\n",
       "Felis catus                    2\n",
       "Panthera tigris jacksoni       1\n",
       "Name: Host, dtype: int64"
      ]
     },
     "execution_count": 139,
     "metadata": {},
     "output_type": "execute_result"
    }
   ],
   "source": [
    "df.Host.value_counts()"
   ]
  },
  {
   "cell_type": "markdown",
   "metadata": {},
   "source": [
    "* `Panthera Tigris Jacksoni` is a Malaysian Tiger from the Bronx Zoo in New York  \n",
    "  \n",
    "From WCS Newsroom\n",
    "> On April 5, 2020, we reported that a four-year-old female Malayan tiger had tested positive for COVID-19. We can confirm that the **three other tigers in Tiger Mountain and the three African lions** that exhibited a cough have also **tested positive** for COVID-19."
   ]
  },
  {
   "cell_type": "markdown",
   "metadata": {},
   "source": [
    "#### 2. Parse Sequence Records"
   ]
  },
  {
   "cell_type": "code",
   "execution_count": 140,
   "metadata": {},
   "outputs": [
    {
     "name": "stdout",
     "output_type": "stream",
     "text": [
      "COVID-19 DNA Sequences: 3632\n",
      "CPU times: user 953 ms, sys: 719 ms, total: 1.67 s\n",
      "Wall time: 1.68 s\n"
     ]
    }
   ],
   "source": [
    "%%time\n",
    "data = SeqIO.index(\"../data/SARS-CoV-2-sequences_v2.fasta\", \"fasta\")\n",
    "print(f'COVID-19 DNA Sequences: {len(data)}')"
   ]
  },
  {
   "cell_type": "code",
   "execution_count": 141,
   "metadata": {
    "scrolled": true
   },
   "outputs": [
    {
     "name": "stdout",
     "output_type": "stream",
     "text": [
      "\n",
      "0. \n",
      "NC_045512 |Severe acute respiratory syndrome coronavirus 2 isolate Wuhan-Hu-1| complete genome|China|Homo sapiens|refseq| complete|Severe acute respiratory syndrome-related coronavirus\n",
      "\n",
      "1. \n",
      "MT459832 |Severe acute respiratory syndrome coronavirus 2 isolate SARS-CoV-2/human/GRC/34_36284/2020| complete genome|Greece|Homo sapiens|complete|Severe acute respiratory syndrome-related coronavirus\n",
      "\n",
      "2. \n",
      "MT459833 |Severe acute respiratory syndrome coronavirus 2 isolate SARS-CoV-2/human/GRC/43_35679/2020| complete genome|Greece|Homo sapiens|complete|Severe acute respiratory syndrome-related coronavirus\n"
     ]
    }
   ],
   "source": [
    "# Get accession\n",
    "records = list(data)\n",
    "\n",
    "for i, record in enumerate(records[:3]):\n",
    "    print(f'\\n{i}. \\n{data[record].description}')\n",
    "    "
   ]
  },
  {
   "cell_type": "code",
   "execution_count": 179,
   "metadata": {},
   "outputs": [
    {
     "data": {
      "text/plain": [
       "Seq('ATTAAAGGTTTATACCTTCCCAGGTAACAAACCAACCAACTTTCGATCTCTTGT...AAA', SingleLetterAlphabet())"
      ]
     },
     "execution_count": 179,
     "metadata": {},
     "output_type": "execute_result"
    }
   ],
   "source": [
    "# Noteworthy records\n",
    "patient_zero = 'NC_045512'\n",
    "tiger_king = 'MT365033'\n",
    "recent_cali = 'MT460092'\n",
    "\n",
    "data[patient_zero].seq"
   ]
  },
  {
   "cell_type": "code",
   "execution_count": 182,
   "metadata": {
    "scrolled": true
   },
   "outputs": [
    {
     "data": {
      "text/plain": [
       "Seq('GGTTTATACCTTCCCAGGTAACAAACCAACCAACTTTCGATCTCTTGTAGATCT...AAA', SingleLetterAlphabet())"
      ]
     },
     "execution_count": 182,
     "metadata": {},
     "output_type": "execute_result"
    }
   ],
   "source": [
    "data[tiger_king].seq"
   ]
  },
  {
   "cell_type": "code",
   "execution_count": 184,
   "metadata": {},
   "outputs": [
    {
     "data": {
      "text/html": [
       "<div>\n",
       "<style scoped>\n",
       "    .dataframe tbody tr th:only-of-type {\n",
       "        vertical-align: middle;\n",
       "    }\n",
       "\n",
       "    .dataframe tbody tr th {\n",
       "        vertical-align: top;\n",
       "    }\n",
       "\n",
       "    .dataframe thead th {\n",
       "        text-align: right;\n",
       "    }\n",
       "</style>\n",
       "<table border=\"1\" class=\"dataframe\">\n",
       "  <thead>\n",
       "    <tr style=\"text-align: right;\">\n",
       "      <th></th>\n",
       "      <th>Accession</th>\n",
       "      <th>Release_Date</th>\n",
       "      <th>Species</th>\n",
       "      <th>Genus</th>\n",
       "      <th>Family</th>\n",
       "      <th>Length</th>\n",
       "      <th>Sequence_Type</th>\n",
       "      <th>Nuc_Completeness</th>\n",
       "      <th>Genotype</th>\n",
       "      <th>Segment</th>\n",
       "      <th>Authors</th>\n",
       "      <th>Publications</th>\n",
       "      <th>Geo_Location</th>\n",
       "      <th>Host</th>\n",
       "      <th>Isolation_Source</th>\n",
       "      <th>Collection_Date</th>\n",
       "      <th>BioSample</th>\n",
       "      <th>GenBank_Title</th>\n",
       "    </tr>\n",
       "  </thead>\n",
       "  <tbody>\n",
       "    <tr>\n",
       "      <th>0</th>\n",
       "      <td>NC_045512</td>\n",
       "      <td>2020-01-13T00:00:00Z</td>\n",
       "      <td>Severe acute respiratory syndrome-related coro...</td>\n",
       "      <td>Betacoronavirus</td>\n",
       "      <td>Coronaviridae</td>\n",
       "      <td>29903</td>\n",
       "      <td>RefSeq</td>\n",
       "      <td>complete</td>\n",
       "      <td>NaN</td>\n",
       "      <td>NaN</td>\n",
       "      <td>Baranov,P.V., Henderson,C.M., Anderson,C.B., G...</td>\n",
       "      <td>15680415, 15630477, 10482585</td>\n",
       "      <td>China</td>\n",
       "      <td>Homo sapiens</td>\n",
       "      <td>NaN</td>\n",
       "      <td>2019-12</td>\n",
       "      <td>NaN</td>\n",
       "      <td>Severe acute respiratory syndrome coronavirus ...</td>\n",
       "    </tr>\n",
       "    <tr>\n",
       "      <th>106</th>\n",
       "      <td>MT460092</td>\n",
       "      <td>2020-05-13T00:00:00Z</td>\n",
       "      <td>Severe acute respiratory syndrome-related coro...</td>\n",
       "      <td>Betacoronavirus</td>\n",
       "      <td>Coronaviridae</td>\n",
       "      <td>29857</td>\n",
       "      <td>GenBank</td>\n",
       "      <td>complete</td>\n",
       "      <td>NaN</td>\n",
       "      <td>NaN</td>\n",
       "      <td>CZB Cliahub Consortium,C.C.C.</td>\n",
       "      <td>NaN</td>\n",
       "      <td>USA: CA</td>\n",
       "      <td>Homo sapiens</td>\n",
       "      <td>NaN</td>\n",
       "      <td>2020-05-01</td>\n",
       "      <td>NaN</td>\n",
       "      <td>Severe acute respiratory syndrome coronavirus ...</td>\n",
       "    </tr>\n",
       "    <tr>\n",
       "      <th>2125</th>\n",
       "      <td>MT365033</td>\n",
       "      <td>2020-04-24T00:00:00Z</td>\n",
       "      <td>Severe acute respiratory syndrome-related coro...</td>\n",
       "      <td>Betacoronavirus</td>\n",
       "      <td>Coronaviridae</td>\n",
       "      <td>29897</td>\n",
       "      <td>GenBank</td>\n",
       "      <td>complete</td>\n",
       "      <td>NaN</td>\n",
       "      <td>NaN</td>\n",
       "      <td>Mitchell,P., Anderson,R.R., Chilson,B., Venugo...</td>\n",
       "      <td>NaN</td>\n",
       "      <td>USA: New York</td>\n",
       "      <td>Panthera tigris jacksoni</td>\n",
       "      <td>oronasopharynx, oronasopharynx</td>\n",
       "      <td>2020-04-02</td>\n",
       "      <td>NaN</td>\n",
       "      <td>Severe acute respiratory syndrome coronavirus ...</td>\n",
       "    </tr>\n",
       "  </tbody>\n",
       "</table>\n",
       "</div>"
      ],
      "text/plain": [
       "      Accession          Release_Date  \\\n",
       "0     NC_045512  2020-01-13T00:00:00Z   \n",
       "106    MT460092  2020-05-13T00:00:00Z   \n",
       "2125   MT365033  2020-04-24T00:00:00Z   \n",
       "\n",
       "                                                Species            Genus  \\\n",
       "0     Severe acute respiratory syndrome-related coro...  Betacoronavirus   \n",
       "106   Severe acute respiratory syndrome-related coro...  Betacoronavirus   \n",
       "2125  Severe acute respiratory syndrome-related coro...  Betacoronavirus   \n",
       "\n",
       "             Family  Length Sequence_Type Nuc_Completeness  Genotype  Segment  \\\n",
       "0     Coronaviridae   29903        RefSeq         complete       NaN      NaN   \n",
       "106   Coronaviridae   29857       GenBank         complete       NaN      NaN   \n",
       "2125  Coronaviridae   29897       GenBank         complete       NaN      NaN   \n",
       "\n",
       "                                                Authors  \\\n",
       "0     Baranov,P.V., Henderson,C.M., Anderson,C.B., G...   \n",
       "106                       CZB Cliahub Consortium,C.C.C.   \n",
       "2125  Mitchell,P., Anderson,R.R., Chilson,B., Venugo...   \n",
       "\n",
       "                      Publications   Geo_Location                      Host  \\\n",
       "0     15680415, 15630477, 10482585          China              Homo sapiens   \n",
       "106                            NaN        USA: CA              Homo sapiens   \n",
       "2125                           NaN  USA: New York  Panthera tigris jacksoni   \n",
       "\n",
       "                    Isolation_Source Collection_Date BioSample  \\\n",
       "0                                NaN         2019-12       NaN   \n",
       "106                              NaN      2020-05-01       NaN   \n",
       "2125  oronasopharynx, oronasopharynx      2020-04-02       NaN   \n",
       "\n",
       "                                          GenBank_Title  \n",
       "0     Severe acute respiratory syndrome coronavirus ...  \n",
       "106   Severe acute respiratory syndrome coronavirus ...  \n",
       "2125  Severe acute respiratory syndrome coronavirus ...  "
      ]
     },
     "execution_count": 184,
     "metadata": {},
     "output_type": "execute_result"
    }
   ],
   "source": [
    "df[df.Accession.isin([patient_zero, tiger_king, recent_cali])]"
   ]
  },
  {
   "cell_type": "code",
   "execution_count": 185,
   "metadata": {},
   "outputs": [],
   "source": [
    "from Bio.SeqUtils.ProtParam import ProteinAnalysis\n",
    "from collections import Counter"
   ]
  },
  {
   "cell_type": "code",
   "execution_count": 195,
   "metadata": {},
   "outputs": [
    {
     "data": {
      "text/plain": [
       "Seq('SQVTNQPTFDLL*ICSLNEL*NLCGCHSAACLVHSRSIINN*LLSLTGHE*LVY...NDK', HasStopCodon(ExtendedIUPACProtein(), '*'))"
      ]
     },
     "execution_count": 195,
     "metadata": {},
     "output_type": "execute_result"
    }
   ],
   "source": [
    "# DNA to mRNA to Polypeptide (protein)\n",
    "data[recent_cali].seq.transcribe().translate()"
   ]
  },
  {
   "cell_type": "code",
   "execution_count": 194,
   "metadata": {},
   "outputs": [
    {
     "data": {
      "text/plain": [
       "Seq('GLYLPR*QTNQLSISCRSVL*TNFKICVAVTRLHA*CTHAV*LITNYCR*QDTS...KKK', HasStopCodon(ExtendedIUPACProtein(), '*'))"
      ]
     },
     "execution_count": 194,
     "metadata": {},
     "output_type": "execute_result"
    }
   ],
   "source": [
    "data[tiger_king].seq.transcribe().translate()"
   ]
  },
  {
   "cell_type": "code",
   "execution_count": 209,
   "metadata": {},
   "outputs": [],
   "source": [
    "# Create dataframe"
   ]
  },
  {
   "cell_type": "code",
   "execution_count": 208,
   "metadata": {},
   "outputs": [
    {
     "data": {
      "text/html": [
       "<div>\n",
       "<style scoped>\n",
       "    .dataframe tbody tr th:only-of-type {\n",
       "        vertical-align: middle;\n",
       "    }\n",
       "\n",
       "    .dataframe tbody tr th {\n",
       "        vertical-align: top;\n",
       "    }\n",
       "\n",
       "    .dataframe thead th {\n",
       "        text-align: right;\n",
       "    }\n",
       "</style>\n",
       "<table border=\"1\" class=\"dataframe\">\n",
       "  <thead>\n",
       "    <tr style=\"text-align: right;\">\n",
       "      <th></th>\n",
       "      <th>Accession</th>\n",
       "      <th>Release_Date</th>\n",
       "      <th>Species</th>\n",
       "      <th>Genus</th>\n",
       "      <th>Family</th>\n",
       "      <th>Length</th>\n",
       "      <th>Sequence_Type</th>\n",
       "      <th>Nuc_Completeness</th>\n",
       "      <th>Genotype</th>\n",
       "      <th>Segment</th>\n",
       "      <th>Authors</th>\n",
       "      <th>Publications</th>\n",
       "      <th>Geo_Location</th>\n",
       "      <th>Host</th>\n",
       "      <th>Isolation_Source</th>\n",
       "      <th>Collection_Date</th>\n",
       "      <th>BioSample</th>\n",
       "      <th>GenBank_Title</th>\n",
       "    </tr>\n",
       "  </thead>\n",
       "  <tbody>\n",
       "    <tr>\n",
       "      <th>0</th>\n",
       "      <td>NC_045512</td>\n",
       "      <td>2020-01-13T00:00:00Z</td>\n",
       "      <td>Severe acute respiratory syndrome-related coro...</td>\n",
       "      <td>Betacoronavirus</td>\n",
       "      <td>Coronaviridae</td>\n",
       "      <td>29903</td>\n",
       "      <td>RefSeq</td>\n",
       "      <td>complete</td>\n",
       "      <td>NaN</td>\n",
       "      <td>NaN</td>\n",
       "      <td>Baranov,P.V., Henderson,C.M., Anderson,C.B., G...</td>\n",
       "      <td>15680415, 15630477, 10482585</td>\n",
       "      <td>China</td>\n",
       "      <td>Homo sapiens</td>\n",
       "      <td>NaN</td>\n",
       "      <td>2019-12</td>\n",
       "      <td>NaN</td>\n",
       "      <td>Severe acute respiratory syndrome coronavirus ...</td>\n",
       "    </tr>\n",
       "    <tr>\n",
       "      <th>1</th>\n",
       "      <td>MT459832</td>\n",
       "      <td>2020-05-13T00:00:00Z</td>\n",
       "      <td>Severe acute respiratory syndrome-related coro...</td>\n",
       "      <td>Betacoronavirus</td>\n",
       "      <td>Coronaviridae</td>\n",
       "      <td>29818</td>\n",
       "      <td>GenBank</td>\n",
       "      <td>complete</td>\n",
       "      <td>NaN</td>\n",
       "      <td>NaN</td>\n",
       "      <td>Kassela,K., Dovrolis,N., Bampali,M., Gatzidou,...</td>\n",
       "      <td>NaN</td>\n",
       "      <td>Greece: Athens</td>\n",
       "      <td>Homo sapiens</td>\n",
       "      <td>NaN</td>\n",
       "      <td>2020-03-24</td>\n",
       "      <td>NaN</td>\n",
       "      <td>Severe acute respiratory syndrome coronavirus ...</td>\n",
       "    </tr>\n",
       "    <tr>\n",
       "      <th>2</th>\n",
       "      <td>MT459833</td>\n",
       "      <td>2020-05-13T00:00:00Z</td>\n",
       "      <td>Severe acute respiratory syndrome-related coro...</td>\n",
       "      <td>Betacoronavirus</td>\n",
       "      <td>Coronaviridae</td>\n",
       "      <td>29818</td>\n",
       "      <td>GenBank</td>\n",
       "      <td>complete</td>\n",
       "      <td>NaN</td>\n",
       "      <td>NaN</td>\n",
       "      <td>Kassela,K., Dovrolis,N., Bampali,M., Gatzidou,...</td>\n",
       "      <td>NaN</td>\n",
       "      <td>Greece: Athens</td>\n",
       "      <td>Homo sapiens</td>\n",
       "      <td>NaN</td>\n",
       "      <td>2020-03-20</td>\n",
       "      <td>NaN</td>\n",
       "      <td>Severe acute respiratory syndrome coronavirus ...</td>\n",
       "    </tr>\n",
       "    <tr>\n",
       "      <th>3</th>\n",
       "      <td>MT459834</td>\n",
       "      <td>2020-05-13T00:00:00Z</td>\n",
       "      <td>Severe acute respiratory syndrome-related coro...</td>\n",
       "      <td>Betacoronavirus</td>\n",
       "      <td>Coronaviridae</td>\n",
       "      <td>29818</td>\n",
       "      <td>GenBank</td>\n",
       "      <td>complete</td>\n",
       "      <td>NaN</td>\n",
       "      <td>NaN</td>\n",
       "      <td>Kassela,K., Dovrolis,N., Bampali,M., Gatzidou,...</td>\n",
       "      <td>NaN</td>\n",
       "      <td>Greece: Athens</td>\n",
       "      <td>Homo sapiens</td>\n",
       "      <td>NaN</td>\n",
       "      <td>2020-03-23</td>\n",
       "      <td>NaN</td>\n",
       "      <td>Severe acute respiratory syndrome coronavirus ...</td>\n",
       "    </tr>\n",
       "    <tr>\n",
       "      <th>4</th>\n",
       "      <td>MT459835</td>\n",
       "      <td>2020-05-13T00:00:00Z</td>\n",
       "      <td>Severe acute respiratory syndrome-related coro...</td>\n",
       "      <td>Betacoronavirus</td>\n",
       "      <td>Coronaviridae</td>\n",
       "      <td>29818</td>\n",
       "      <td>GenBank</td>\n",
       "      <td>complete</td>\n",
       "      <td>NaN</td>\n",
       "      <td>NaN</td>\n",
       "      <td>Kassela,K., Dovrolis,N., Bampali,M., Gatzidou,...</td>\n",
       "      <td>NaN</td>\n",
       "      <td>Greece: Athens</td>\n",
       "      <td>Homo sapiens</td>\n",
       "      <td>NaN</td>\n",
       "      <td>2020-03-23</td>\n",
       "      <td>NaN</td>\n",
       "      <td>Severe acute respiratory syndrome coronavirus ...</td>\n",
       "    </tr>\n",
       "  </tbody>\n",
       "</table>\n",
       "</div>"
      ],
      "text/plain": [
       "   Accession          Release_Date  \\\n",
       "0  NC_045512  2020-01-13T00:00:00Z   \n",
       "1   MT459832  2020-05-13T00:00:00Z   \n",
       "2   MT459833  2020-05-13T00:00:00Z   \n",
       "3   MT459834  2020-05-13T00:00:00Z   \n",
       "4   MT459835  2020-05-13T00:00:00Z   \n",
       "\n",
       "                                             Species            Genus  \\\n",
       "0  Severe acute respiratory syndrome-related coro...  Betacoronavirus   \n",
       "1  Severe acute respiratory syndrome-related coro...  Betacoronavirus   \n",
       "2  Severe acute respiratory syndrome-related coro...  Betacoronavirus   \n",
       "3  Severe acute respiratory syndrome-related coro...  Betacoronavirus   \n",
       "4  Severe acute respiratory syndrome-related coro...  Betacoronavirus   \n",
       "\n",
       "          Family  Length Sequence_Type Nuc_Completeness  Genotype  Segment  \\\n",
       "0  Coronaviridae   29903        RefSeq         complete       NaN      NaN   \n",
       "1  Coronaviridae   29818       GenBank         complete       NaN      NaN   \n",
       "2  Coronaviridae   29818       GenBank         complete       NaN      NaN   \n",
       "3  Coronaviridae   29818       GenBank         complete       NaN      NaN   \n",
       "4  Coronaviridae   29818       GenBank         complete       NaN      NaN   \n",
       "\n",
       "                                             Authors  \\\n",
       "0  Baranov,P.V., Henderson,C.M., Anderson,C.B., G...   \n",
       "1  Kassela,K., Dovrolis,N., Bampali,M., Gatzidou,...   \n",
       "2  Kassela,K., Dovrolis,N., Bampali,M., Gatzidou,...   \n",
       "3  Kassela,K., Dovrolis,N., Bampali,M., Gatzidou,...   \n",
       "4  Kassela,K., Dovrolis,N., Bampali,M., Gatzidou,...   \n",
       "\n",
       "                   Publications    Geo_Location          Host  \\\n",
       "0  15680415, 15630477, 10482585           China  Homo sapiens   \n",
       "1                           NaN  Greece: Athens  Homo sapiens   \n",
       "2                           NaN  Greece: Athens  Homo sapiens   \n",
       "3                           NaN  Greece: Athens  Homo sapiens   \n",
       "4                           NaN  Greece: Athens  Homo sapiens   \n",
       "\n",
       "  Isolation_Source Collection_Date BioSample  \\\n",
       "0              NaN         2019-12       NaN   \n",
       "1              NaN      2020-03-24       NaN   \n",
       "2              NaN      2020-03-20       NaN   \n",
       "3              NaN      2020-03-23       NaN   \n",
       "4              NaN      2020-03-23       NaN   \n",
       "\n",
       "                                       GenBank_Title  \n",
       "0  Severe acute respiratory syndrome coronavirus ...  \n",
       "1  Severe acute respiratory syndrome coronavirus ...  \n",
       "2  Severe acute respiratory syndrome coronavirus ...  \n",
       "3  Severe acute respiratory syndrome coronavirus ...  \n",
       "4  Severe acute respiratory syndrome coronavirus ...  "
      ]
     },
     "execution_count": 208,
     "metadata": {},
     "output_type": "execute_result"
    }
   ],
   "source": [
    "df.head()"
   ]
  },
  {
   "cell_type": "code",
   "execution_count": 205,
   "metadata": {
    "scrolled": true
   },
   "outputs": [],
   "source": [
    "# Method 1\n",
    "tk_analyised = ProteinAnalysis(str(data[tiger_king].seq.transcribe().translate()))\n"
   ]
  },
  {
   "cell_type": "code",
   "execution_count": 206,
   "metadata": {},
   "outputs": [
    {
     "data": {
      "text/plain": [
       "{'A': 375,\n",
       " 'C': 636,\n",
       " 'D': 290,\n",
       " 'E': 270,\n",
       " 'F': 593,\n",
       " 'G': 394,\n",
       " 'H': 333,\n",
       " 'I': 435,\n",
       " 'K': 412,\n",
       " 'L': 887,\n",
       " 'M': 117,\n",
       " 'N': 472,\n",
       " 'P': 291,\n",
       " 'Q': 324,\n",
       " 'R': 557,\n",
       " 'S': 810,\n",
       " 'T': 679,\n",
       " 'V': 548,\n",
       " 'W': 263,\n",
       " 'Y': 505}"
      ]
     },
     "execution_count": 206,
     "metadata": {},
     "output_type": "execute_result"
    }
   ],
   "source": [
    "# Check for the Frequence of AA\n",
    "tk_analyised.count_amino_acids()"
   ]
  },
  {
   "cell_type": "code",
   "execution_count": 430,
   "metadata": {},
   "outputs": [
    {
     "data": {
      "text/html": [
       "<div>\n",
       "<style scoped>\n",
       "    .dataframe tbody tr th:only-of-type {\n",
       "        vertical-align: middle;\n",
       "    }\n",
       "\n",
       "    .dataframe tbody tr th {\n",
       "        vertical-align: top;\n",
       "    }\n",
       "\n",
       "    .dataframe thead th {\n",
       "        text-align: right;\n",
       "    }\n",
       "</style>\n",
       "<table border=\"1\" class=\"dataframe\">\n",
       "  <thead>\n",
       "    <tr style=\"text-align: right;\">\n",
       "      <th></th>\n",
       "      <th>name</th>\n",
       "      <th>seq</th>\n",
       "      <th>gc_content</th>\n",
       "      <th>proteins</th>\n",
       "      <th>len</th>\n",
       "      <th>aa_freq</th>\n",
       "    </tr>\n",
       "  </thead>\n",
       "  <tbody>\n",
       "    <tr>\n",
       "      <th>0</th>\n",
       "      <td>COVID19</td>\n",
       "      <td>(A, T, T, A, A, A, G, G, T, T, T, A, T, A, C, ...</td>\n",
       "      <td>37.972779</td>\n",
       "      <td>9967</td>\n",
       "      <td>29903</td>\n",
       "      <td>{'I': 436, 'K': 413, 'G': 394, 'L': 886, 'Y': ...</td>\n",
       "    </tr>\n",
       "    <tr>\n",
       "      <th>1</th>\n",
       "      <td>MERS</td>\n",
       "      <td>(G, A, T, T, T, A, A, G, T, G, A, A, T, A, G, ...</td>\n",
       "      <td>41.236429</td>\n",
       "      <td>10039</td>\n",
       "      <td>30119</td>\n",
       "      <td>{'D': 121, 'L': 1711, 'S': 852, 'E': 157, '*':...</td>\n",
       "    </tr>\n",
       "    <tr>\n",
       "      <th>2</th>\n",
       "      <td>SARS</td>\n",
       "      <td>(A, T, A, T, T, A, G, G, T, T, T, T, T, A, C, ...</td>\n",
       "      <td>40.761655</td>\n",
       "      <td>9917</td>\n",
       "      <td>29751</td>\n",
       "      <td>{'I': 566, 'L': 1368, 'G': 438, 'F': 437, 'Y':...</td>\n",
       "    </tr>\n",
       "    <tr>\n",
       "      <th>3</th>\n",
       "      <td>EBOLA</td>\n",
       "      <td>(C, G, G, A, C, A, C, A, C, A, A, A, A, A, G, ...</td>\n",
       "      <td>41.072841</td>\n",
       "      <td>6319</td>\n",
       "      <td>18959</td>\n",
       "      <td>{'R': 437, 'T': 384, 'H': 235, 'K': 344, 'E': ...</td>\n",
       "    </tr>\n",
       "  </tbody>\n",
       "</table>\n",
       "</div>"
      ],
      "text/plain": [
       "      name                                                seq  gc_content  \\\n",
       "0  COVID19  (A, T, T, A, A, A, G, G, T, T, T, A, T, A, C, ...   37.972779   \n",
       "1     MERS  (G, A, T, T, T, A, A, G, T, G, A, A, T, A, G, ...   41.236429   \n",
       "2     SARS  (A, T, A, T, T, A, G, G, T, T, T, T, T, A, C, ...   40.761655   \n",
       "3    EBOLA  (C, G, G, A, C, A, C, A, C, A, A, A, A, A, G, ...   41.072841   \n",
       "\n",
       "   proteins    len                                            aa_freq  \n",
       "0      9967  29903  {'I': 436, 'K': 413, 'G': 394, 'L': 886, 'Y': ...  \n",
       "1     10039  30119  {'D': 121, 'L': 1711, 'S': 852, 'E': 157, '*':...  \n",
       "2      9917  29751  {'I': 566, 'L': 1368, 'G': 438, 'F': 437, 'Y':...  \n",
       "3      6319  18959  {'R': 437, 'T': 384, 'H': 235, 'K': 344, 'E': ...  "
      ]
     },
     "execution_count": 430,
     "metadata": {},
     "output_type": "execute_result"
    }
   ],
   "source": [
    "# Method 2\n",
    "from collections import Counter\n",
    "\n",
    "# Find the Amino Acid Frequency\n",
    "df['aa_freq'] = df.seq.apply(lambda s: Counter(s.translate()))\n",
    "df"
   ]
  },
  {
   "cell_type": "markdown",
   "metadata": {},
   "source": [
    "#### Most Common Amino Acid"
   ]
  },
  {
   "cell_type": "code",
   "execution_count": 433,
   "metadata": {},
   "outputs": [
    {
     "data": {
      "text/plain": [
       "[('L', 886),\n",
       " ('S', 810),\n",
       " ('*', 774),\n",
       " ('T', 679),\n",
       " ('C', 635),\n",
       " ('F', 593),\n",
       " ('R', 558),\n",
       " ('V', 548),\n",
       " ('Y', 505),\n",
       " ('N', 472)]"
      ]
     },
     "execution_count": 433,
     "metadata": {},
     "output_type": "execute_result"
    }
   ],
   "source": [
    "# For Covid\n",
    "df[df.name=='COVID19'].aa_freq.values[0].most_common(10)"
   ]
  },
  {
   "cell_type": "code",
   "execution_count": 477,
   "metadata": {},
   "outputs": [
    {
     "data": {
      "text/plain": [
       "<BarContainer object of 21 artists>"
      ]
     },
     "execution_count": 477,
     "metadata": {},
     "output_type": "execute_result"
    },
    {
     "data": {
      "image/png": "[encoded data removed]",
      "text/plain": [
       "<Figure size 432x288 with 1 Axes>"
      ]
     },
     "metadata": {
      "needs_background": "light"
     },
     "output_type": "display_data"
    }
   ],
   "source": [
    "# Plot the Amino Acids of COVID-19\n",
    "\n",
    "aa = df[df.name=='COVID19'].aa_freq.values[0]\n",
    "plt.bar(aa.keys(), aa.values())"
   ]
  },
  {
   "cell_type": "code",
   "execution_count": 485,
   "metadata": {},
   "outputs": [
    {
     "data": {
      "image/png": "[encoded data removed]",
      "text/plain": [
       "<Figure size 432x288 with 1 Axes>"
      ]
     },
     "metadata": {
      "needs_background": "light"
     },
     "output_type": "display_data"
    }
   ],
   "source": [
    "# All viruses -- same chart (not stacked)\n",
    "\n",
    "for virus in df.name:\n",
    "    aa = df[df.name==virus].aa_freq.values[0]\n",
    "    plt.bar(aa.keys(), aa.values())\n",
    "plt.show()"
   ]
  },
  {
   "cell_type": "markdown",
   "metadata": {},
   "source": [
    "### Dot Plots of Opening Sequences"
   ]
  },
  {
   "cell_type": "code",
   "execution_count": 480,
   "metadata": {},
   "outputs": [
    {
     "name": "stdout",
     "output_type": "stream",
     "text": [
      " |GATTTAAGTG\n",
      "------------\n",
      "A| ■   ■■   \n",
      "T|  ■■■   ■ \n",
      "T|  ■■■   ■ \n",
      "A| ■   ■■   \n",
      "A| ■   ■■   \n",
      "A| ■   ■■   \n",
      "G|■      ■ ■\n",
      "G|■      ■ ■\n",
      "T|  ■■■   ■ \n",
      "T|  ■■■   ■ \n"
     ]
    }
   ],
   "source": [
    "# COVID and MERS\n",
    "dotplot(covid_seq[0:10],mers_seq[0:10])"
   ]
  },
  {
   "cell_type": "code",
   "execution_count": 482,
   "metadata": {},
   "outputs": [
    {
     "name": "stdout",
     "output_type": "stream",
     "text": [
      " |ATATTAGGTT\n",
      "------------\n",
      "A|■ ■  ■    \n",
      "T| ■ ■■   ■■\n",
      "T| ■ ■■   ■■\n",
      "A|■ ■  ■    \n",
      "A|■ ■  ■    \n",
      "A|■ ■  ■    \n",
      "G|      ■■  \n",
      "G|      ■■  \n",
      "T| ■ ■■   ■■\n",
      "T| ■ ■■   ■■\n"
     ]
    }
   ],
   "source": [
    "# COVID and SARS\n",
    "n = 10\n",
    "dotplot(covid_seq[0:n],sars_seq[0:n])"
   ]
  },
  {
   "cell_type": "code",
   "execution_count": 483,
   "metadata": {},
   "outputs": [
    {
     "data": {
      "image/png": "[encoded data removed]",
      "text/plain": [
       "<Figure size 432x288 with 1 Axes>"
      ]
     },
     "metadata": {
      "needs_background": "light"
     },
     "output_type": "display_data"
    }
   ],
   "source": [
    "# Plotting function to illustrate deeper matches\n",
    "\n",
    "def dotplotx(seq1, seq2, n):\n",
    "    seq1=seq1[0:n]\n",
    "    seq2=seq2[0:n]\n",
    "    plt.imshow(np.array(makeMatrix(seq1,seq2,1)))\n",
    "    # on x-axis list all sequences of seq 2\n",
    "    xt=plt.xticks(np.arange(len(list(seq2))),list(seq2))\n",
    "    # on y-axis list all sequences of seq 1\n",
    "    yt=plt.yticks(np.arange(len(list(seq1))),list(seq1))\n",
    "    plt.show()\n",
    "    \n",
    "dotplotx(covid_seq, sars_seq, n=100)"
   ]
  },
  {
   "cell_type": "markdown",
   "metadata": {},
   "source": [
    "Notice the large diagonal line for the second half of the first 100 nucleotides - indicating these are the same for `COVID19` and `SARS`"
   ]
  },
  {
   "cell_type": "code",
   "execution_count": 484,
   "metadata": {},
   "outputs": [
    {
     "data": {
      "image/png": "[encoded data removed]",
      "text/plain": [
       "<Figure size 432x288 with 1 Axes>"
      ]
     },
     "metadata": {
      "needs_background": "light"
     },
     "output_type": "display_data"
    }
   ],
   "source": [
    "dotplotx(covid_seq, ebola_seq, n=100)"
   ]
  },
  {
   "cell_type": "markdown",
   "metadata": {},
   "source": [
    "No corresponding matches for `EBOLA` and `COVID`"
   ]
  },
  {
   "cell_type": "markdown",
   "metadata": {},
   "source": [
    "#### Calculate Pairwise Alignment for the First 100 Nucleotides\n"
   ]
  },
  {
   "cell_type": "code",
   "execution_count": 528,
   "metadata": {},
   "outputs": [
    {
     "name": "stdout",
     "output_type": "stream",
     "text": [
      "Pairwise alignment: 89/100 (89.0%)\n"
     ]
    }
   ],
   "source": [
    "\n",
    "def pairwise_alignment(s1, s2, n):\n",
    "    if n == 'full': n = min(len(s1), len(s2))\n",
    "    alignment = pairwise2.align.globalxx(s1[0:n], s2[0:n], one_alignment_only=True, score_only=True)\n",
    "    print(f'Pairwise alignment: {alignment:.0f}/{n} ({(alignment/n)*100:0.1f}%)')\n",
    "\n",
    "    \n",
    "# SARS and COVID \n",
    "pairwise_alignment(covid_seq, sars_seq, n=100)"
   ]
  },
  {
   "cell_type": "code",
   "execution_count": 529,
   "metadata": {},
   "outputs": [
    {
     "name": "stdout",
     "output_type": "stream",
     "text": [
      "Pairwise alignment: 7895/10000 (79.0%)\n"
     ]
    }
   ],
   "source": [
    "pairwise_alignment(covid_seq, sars_seq, n=10000)"
   ]
  },
  {
   "cell_type": "code",
   "execution_count": 530,
   "metadata": {},
   "outputs": [
    {
     "name": "stdout",
     "output_type": "stream",
     "text": [
      "Pairwise alignment: 24654/29751 (82.9%)\n"
     ]
    }
   ],
   "source": [
    "pairwise_alignment(covid_seq, sars_seq, n=len(sars_seq))"
   ]
  },
  {
   "cell_type": "markdown",
   "metadata": {},
   "source": [
    "* `82.9`% of the COVID19 genome is exactly the same as SARS"
   ]
  },
  {
   "cell_type": "code",
   "execution_count": 531,
   "metadata": {},
   "outputs": [
    {
     "name": "stdout",
     "output_type": "stream",
     "text": [
      "Pairwise alignment: 20778/29903 (69.5%)\n"
     ]
    }
   ],
   "source": [
    "pairwise_alignment(covid_seq, mers_seq, n='full')"
   ]
  },
  {
   "cell_type": "code",
   "execution_count": 532,
   "metadata": {},
   "outputs": [
    {
     "name": "stdout",
     "output_type": "stream",
     "text": [
      "Pairwise alignment: 12377/18959 (65.3%)\n"
     ]
    }
   ],
   "source": [
    "pairwise_alignment(covid_seq, ebola_seq, n='full')"
   ]
  },
  {
   "cell_type": "markdown",
   "metadata": {},
   "source": [
    "* `COVID19` and `SARS` have a `82.9`% similarity. Both are of the same genus and belong to `Sars_Cov`.\n",
    "* `COVID19` and `EBOLA` have a `65.3`% similarity since they are from a different family of virus"
   ]
  },
  {
   "cell_type": "markdown",
   "metadata": {},
   "source": [
    "### Example of the Opening Sequence of `COVID19` and `SARS`\n",
    "Sequencing found similar structure from `40:100` so lets use our functions to visualise it."
   ]
  },
  {
   "cell_type": "code",
   "execution_count": 550,
   "metadata": {},
   "outputs": [
    {
     "name": "stdout",
     "output_type": "stream",
     "text": [
      "Similarity matrix (look for diagonal)\n"
     ]
    },
    {
     "data": {
      "image/png": "[encoded data removed]",
      "text/plain": [
       "<Figure size 432x288 with 1 Axes>"
      ]
     },
     "metadata": {
      "needs_background": "light"
     },
     "output_type": "display_data"
    },
    {
     "name": "stdout",
     "output_type": "stream",
     "text": [
      "Possible alignment pathways: \n",
      "\n",
      "TTTCGATCTCTTGTAGATCTGTTCTCTAAACGAACTTTAAAATCTGTGTG-GCTGTCA-CTC---\n",
      "   ||||||||||||||||||||||||||||||||||||||||||||||  ||||||  |||   \n",
      "---CGATCTCTTGTAGATCTGTTCTCTAAACGAACTTTAAAATCTGTGT-AGCTGTC-GCTCGGC\n",
      "  Score=55\n",
      " \n",
      "TTTCGATCTCTTGTAGATCTGTTCTCTAAACGAACTTTAAAATCTGTGTGGCTGTCA-CTC---\n",
      "   ||||||||||||||||||||||||||||||||||||||||||||||.||||||  |||   \n",
      "---CGATCTCTTGTAGATCTGTTCTCTAAACGAACTTTAAAATCTGTGTAGCTGTC-GCTCGGC\n",
      "  Score=55\n",
      " \n",
      "TTTCGATCTCTTGTAGATCTGTTCTCTAAACGAACTTTAAAATCTGTGT-GGCTGTCA-CTC---\n",
      "   |||||||||||||||||||||||||||||||||||||||||||||| | |||||  |||   \n",
      "---CGATCTCTTGTAGATCTGTTCTCTAAACGAACTTTAAAATCTGTGTAG-CTGTC-GCTCGGC\n",
      "  Score=55\n",
      " \n",
      "TTTCGATCTCTTGTAGATCTGTTCTCTAAACGAACTTTAAAATCTGTGTG-GCTGTCACTC---\n",
      "   ||||||||||||||||||||||||||||||||||||||||||||||  ||||||.|||   \n",
      "---CGATCTCTTGTAGATCTGTTCTCTAAACGAACTTTAAAATCTGTGT-AGCTGTCGCTCGGC\n",
      "  Score=55\n",
      " \n",
      "TTTCGATCTCTTGTAGATCTGTTCTCTAAACGAACTTTAAAATCTGTGTGGCTGTCACTC---\n",
      "   ||||||||||||||||||||||||||||||||||||||||||||||.||||||.|||   \n",
      "---CGATCTCTTGTAGATCTGTTCTCTAAACGAACTTTAAAATCTGTGTAGCTGTCGCTCGGC\n",
      "  Score=55\n",
      " \n",
      "TTTCGATCTCTTGTAGATCTGTTCTCTAAACGAACTTTAAAATCTGTGT-GGCTGTCACTC---\n",
      "   |||||||||||||||||||||||||||||||||||||||||||||| | |||||.|||   \n",
      "---CGATCTCTTGTAGATCTGTTCTCTAAACGAACTTTAAAATCTGTGTAG-CTGTCGCTCGGC\n",
      "  Score=55\n",
      " \n",
      "TTTCGATCTCTTGTAGATCTGTTCTCTAAACGAACTTTAAAATCTGTGTG-GCTGTCA-CT---C\n",
      "   ||||||||||||||||||||||||||||||||||||||||||||||  ||||||  ||   |\n",
      "---CGATCTCTTGTAGATCTGTTCTCTAAACGAACTTTAAAATCTGTGT-AGCTGTC-GCTCGGC\n",
      "  Score=55\n",
      " \n",
      "TTTCGATCTCTTGTAGATCTGTTCTCTAAACGAACTTTAAAATCTGTGTGGCTGTCA-CT---C\n",
      "   ||||||||||||||||||||||||||||||||||||||||||||||.||||||  ||   |\n",
      "---CGATCTCTTGTAGATCTGTTCTCTAAACGAACTTTAAAATCTGTGTAGCTGTC-GCTCGGC\n",
      "  Score=55\n",
      " \n",
      "TTTCGATCTCTTGTAGATCTGTTCTCTAAACGAACTTTAAAATCTGTGT-GGCTGTCA-CT---C\n",
      "   |||||||||||||||||||||||||||||||||||||||||||||| | |||||  ||   |\n",
      "---CGATCTCTTGTAGATCTGTTCTCTAAACGAACTTTAAAATCTGTGTAG-CTGTC-GCTCGGC\n",
      "  Score=55\n",
      " \n",
      "TTTCGATCTCTTGTAGATCTGTTCTCTAAACGAACTTTAAAATCTGTGTG-GCTGTCACT---C\n",
      "   ||||||||||||||||||||||||||||||||||||||||||||||  ||||||.||   |\n",
      "---CGATCTCTTGTAGATCTGTTCTCTAAACGAACTTTAAAATCTGTGT-AGCTGTCGCTCGGC\n",
      "  Score=55\n",
      " \n",
      "TTTCGATCTCTTGTAGATCTGTTCTCTAAACGAACTTTAAAATCTGTGTGGCTGTCACT---C\n",
      "   ||||||||||||||||||||||||||||||||||||||||||||||.||||||.||   |\n",
      "---CGATCTCTTGTAGATCTGTTCTCTAAACGAACTTTAAAATCTGTGTAGCTGTCGCTCGGC\n",
      "  Score=55\n",
      " \n",
      "TTTCGATCTCTTGTAGATCTGTTCTCTAAACGAACTTTAAAATCTGTGT-GGCTGTCACT---C\n",
      "   |||||||||||||||||||||||||||||||||||||||||||||| | |||||.||   |\n",
      "---CGATCTCTTGTAGATCTGTTCTCTAAACGAACTTTAAAATCTGTGTAG-CTGTCGCTCGGC\n",
      "  Score=55\n",
      " \n"
     ]
    }
   ],
   "source": [
    "s1 = covid_seq[40:100]\n",
    "s2 = sars_seq[40:100]\n",
    "\n",
    "print('Similarity matrix (look for diagonal)')\n",
    "dotplotx(s1, s2, n=100)\n",
    "\n",
    "print('Possible alignment pathways: \\n\\n')\n",
    "hammer_time(s1, s2, verbose=False)"
   ]
  },
  {
   "cell_type": "code",
   "execution_count": null,
   "metadata": {},
   "outputs": [],
   "source": []
  }
 ],
 "metadata": {
  "kernelspec": {
   "display_name": "Python 3",
   "language": "python",
   "name": "python3"
  },
  "language_info": {
   "codemirror_mode": {
    "name": "ipython",
    "version": 3
   },
   "file_extension": ".py",
   "mimetype": "text/x-python",
   "name": "python",
   "nbconvert_exporter": "python",
   "pygments_lexer": "ipython3",
   "version": "3.8.2"
  }
 },
 "nbformat": 4,
 "nbformat_minor": 4
}
