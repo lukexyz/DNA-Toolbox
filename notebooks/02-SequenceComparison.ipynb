{
 "cells": [
  {
   "cell_type": "markdown",
   "metadata": {},
   "source": [
    "# Sequence Comparison of DNA using `BioPython`\n",
    "Comparison of `Covid19`, `MERS`, `SARS` and `EBOLA`\n",
    "\n",
    "#### Analysis Techniques:\n",
    "* Compare their DNA sequence and Protein (Amino Acid) sequence\n",
    "* GC Content\n",
    "* Freq of Each Amino Acids\n",
    "* Find similarity between them\n",
    "  * Alignment\n",
    "  * hamming distance\n",
    "* 3D structure of each\n",
    "\n",
    "| DNA Sequence     | Datasource                                                    |\n",
    "|:-----------------|:--------------------------------------------------------------|\n",
    "| Latest Sequence  | https://www.ncbi.nlm.nih.gov/genbank/sars-cov-2-seqs/         |\n",
    "| Wuhan-Hu-1       | https://www.ncbi.nlm.nih.gov/nuccore/MN908947.3?report=fasta  |\n",
    "| Covid19          | https://www.ncbi.nlm.nih.gov/nuccore/NC_045512.2?report=fasta |\n",
    "| SARS             | https://www.ncbi.nlm.nih.gov/nuccore/NC_004718.3?report=fasta |\n",
    "| MERS             | https://www.ncbi.nlm.nih.gov/nuccore/NC_019843.3?report=fasta |\n",
    "| EBOLA            | https://www.ncbi.nlm.nih.gov/nuccore/NC_002549.1?report=fasta |\n"
   ]
  },
  {
   "cell_type": "code",
   "execution_count": 2,
   "metadata": {},
   "outputs": [],
   "source": [
    "from Bio.Seq import Seq\n",
    "\n",
    "# Create our sequence \n",
    "seq1 = Seq('ACTCGA')\n",
    "seq2 = Seq('AC')"
   ]
  },
  {
   "cell_type": "markdown",
   "metadata": {},
   "source": [
    "\n",
    "#### GC Contents In DNA  \n",
    "\n",
    "* `GC-content` (or guanine-cytosine content) is the **percentage of nitrogenous bases** in a DNA or RNA molecule that are either guanine (`G`) or cytosine (`C`)\n",
    "\n",
    "#### Usefulness  \n",
    "\n",
    "* In polymerase chain reaction (PCR) experiments, the GC-content of short oligonucleotides known as primers is often used to predict their **annealing temperature** to the template DNA.\n",
    "    * A `high` GC-content level indicates a relatively higher melting temperature.\n",
    "    * DNA with `low` GC-content is less stable than DNA with high GC-content  \n",
    "\n",
    "> Question: which sequence is more stable when heat is applied?"
   ]
  },
  {
   "cell_type": "code",
   "execution_count": 46,
   "metadata": {},
   "outputs": [
    {
     "name": "stdout",
     "output_type": "stream",
     "text": [
      "GC(seq1) = 50.0% \t(ACTCGA)\n",
      "GC(seq2) = 50.0% \t(AC)\n"
     ]
    }
   ],
   "source": [
    "from Bio.SeqUtils import GC\n",
    "# Check GC (guanine-cytosine) percentage in sequence\n",
    "\n",
    "print(f\"{GC(seq1) = }% \\t({seq1})\")\n",
    "print(f\"{GC(seq2) = }% \\t({seq2})\")"
   ]
  },
  {
   "cell_type": "markdown",
   "metadata": {},
   "source": [
    "### Sequence Alignments\n",
    "* `Global alignment` finds the best concordance/agreement between all characters in two sequences\n",
    "* `Local Alignment` finds just the subsequences that align the best"
   ]
  },
  {
   "cell_type": "code",
   "execution_count": 103,
   "metadata": {},
   "outputs": [
    {
     "name": "stdout",
     "output_type": "stream",
     "text": [
      "seq1 = ACTCGA \n",
      "seq2 = AC \n",
      "\n",
      "Alignments found: 2\n",
      "('ACTCGA', 'A--C--', 2.0, 0, 6)\n",
      "('ACTCGA', 'AC----', 2.0, 0, 6)\n"
     ]
    }
   ],
   "source": [
    "from Bio import pairwise2\n",
    "from Bio.pairwise2 import format_alignment\n",
    "\n",
    "print('seq1 =', seq1, '\\nseq2 =', seq2, '\\n\\n')\n",
    "\n",
    "# Global alignment\n",
    "alignments = pairwise2.align.globalxx(seq1, seq2)\n",
    "\n",
    "print(f'Alignments found: {len(alignments)}')\n",
    "print(*alignments)"
   ]
  },
  {
   "cell_type": "code",
   "execution_count": 104,
   "metadata": {},
   "outputs": [
    {
     "name": "stdout",
     "output_type": "stream",
     "text": [
      "ACTCGA\n",
      "|  |  \n",
      "A--C--\n",
      "  Score=2\n"
     ]
    }
   ],
   "source": [
    "# Print nicely\n",
    "print(format_alignment(*alignments[0]))"
   ]
  },
  {
   "cell_type": "code",
   "execution_count": 105,
   "metadata": {},
   "outputs": [
    {
     "name": "stdout",
     "output_type": "stream",
     "text": [
      "ACTCGA\n",
      "||    \n",
      "AC----\n",
      "  Score=2\n"
     ]
    }
   ],
   "source": [
    "# 2nd alignment\n",
    "print(format_alignment(*alignments[1]))"
   ]
  },
  {
   "cell_type": "code",
   "execution_count": 106,
   "metadata": {},
   "outputs": [
    {
     "name": "stdout",
     "output_type": "stream",
     "text": [
      "ACTCGA\n",
      "|  |  \n",
      "A--C--\n",
      "  Score=2\n",
      " \n",
      "ACTCGA\n",
      "||    \n",
      "AC----\n",
      "  Score=2\n",
      " \n"
     ]
    }
   ],
   "source": [
    "# To see all possible alignments\n",
    "for a in alignments:\n",
    "    print(format_alignment(*a), '\\n')"
   ]
  },
  {
   "cell_type": "code",
   "execution_count": 107,
   "metadata": {},
   "outputs": [
    {
     "data": {
      "text/plain": [
       "2.0"
      ]
     },
     "execution_count": 107,
     "metadata": {},
     "output_type": "execute_result"
    }
   ],
   "source": [
    "# Get the number of possible sequence alignments\n",
    "alignment_score = pairwise2.align.globalxx(seq1,seq2,one_alignment_only=True,score_only=True)\n",
    "alignment_score"
   ]
  },
  {
   "cell_type": "markdown",
   "metadata": {},
   "source": [
    "#### Sequence Similarity\n",
    "* Fraction of nucleotides that is the same/ total number of nucleotides * 100%"
   ]
  },
  {
   "cell_type": "code",
   "execution_count": 108,
   "metadata": {},
   "outputs": [
    {
     "data": {
      "text/plain": [
       "33.33333333333333"
      ]
     },
     "execution_count": 108,
     "metadata": {},
     "output_type": "execute_result"
    }
   ],
   "source": [
    "alignment_score/len(seq1)*100"
   ]
  },
  {
   "cell_type": "markdown",
   "metadata": {},
   "source": [
    "### Hamming Distance: `How Many Subsitutions are Required to Match Two Sequences?`\n",
    "\n",
    "* Hamming distance between two strings of equal length is the number of positions at which the corresponding symbols are different.\n",
    "* In other words, it measures the minimum number of substitutions required to change one string into the other, or the minimum number of errors that could have transformed one string into the other\n",
    "* It is used for error detection or error correction\n",
    "* It is used to quantify the similarity of DNA sequences  \n",
    "\n",
    "#### Edit Distance\n",
    "   * Is a way of quantifying how dissimilar two strings (e.g., words) are to one another by counting the minimum number of operations required to transform one string into the other (e.g. Levenshtein distance)"
   ]
  },
  {
   "cell_type": "code",
   "execution_count": 109,
   "metadata": {},
   "outputs": [],
   "source": [
    "def hamming_distance(lhs, rhs):\n",
    "    return len([(x,y) for x,y in zip(lhs,rhs) if x != y])"
   ]
  },
  {
   "cell_type": "code",
   "execution_count": 133,
   "metadata": {},
   "outputs": [
    {
     "data": {
      "text/plain": [
       "2"
      ]
     },
     "execution_count": 133,
     "metadata": {},
     "output_type": "execute_result"
    }
   ],
   "source": [
    "hamming_distance('TT', 'ACCTA')"
   ]
  },
  {
   "cell_type": "code",
   "execution_count": 183,
   "metadata": {},
   "outputs": [
    {
     "name": "stdout",
     "output_type": "stream",
     "text": [
      "s1 = ACTCGAA \n",
      "s2 = ACGA \n",
      "\n",
      "Hamming Distance: 2 \n",
      "(min substitutions for sequences to match)\n",
      "\n",
      "Alignment Options:\n",
      "\n",
      "ACTCGAA\n",
      "|  || |\n",
      "A--CG-A\n",
      "  Score=4\n",
      " \n",
      "ACTCGAA\n",
      "||  | |\n",
      "AC--G-A\n",
      "  Score=4\n",
      " \n",
      "ACTCGAA\n",
      "|  ||| \n",
      "A--CGA-\n",
      "  Score=4\n",
      " \n",
      "ACTCGAA\n",
      "||  || \n",
      "AC--GA-\n",
      "  Score=4\n",
      " \n"
     ]
    }
   ],
   "source": [
    "def hammer_time(s1, s2, verbose=True):\n",
    "    \"\"\"Take two nucleotide sequences s1 and s2, and display \n",
    "       the possible alignments and hamming distance.\n",
    "    \"\"\"\n",
    "    if verbose:\n",
    "        print('s1 =', s1, '\\ns2 =', s2, '\\n\\n')\n",
    "        print('Hamming Distance:', hamming_distance(s1, s2), '\\n(min substitutions for sequences to match)')\n",
    "        print('\\nAlignment Options:\\n\\n')\n",
    "    alignments = pairwise2.align.globalxx(s1, s2)\n",
    "    for a in alignments:\n",
    "        print(format_alignment(*a), '\\n')\n",
    "    \n",
    "\n",
    "s1 = 'ACTCGAA'\n",
    "s2 = 'ACGA'\n",
    "hammer_time(s1, s2)"
   ]
  },
  {
   "cell_type": "markdown",
   "metadata": {},
   "source": [
    "### Dot Plot\n",
    "* A dot plot is a graphical method that allows the **comparison of two biological sequences** and identify regions of **close similarity** between them.\n",
    "* Simplest explanation: put a dot wherever sequences are identical\n",
    "\n",
    "#### Usefulness\n",
    "Dot plots can also be used to visually inspect sequences for\n",
    "    - Direct or inverted repeats\n",
    "    - Regions with low sequence complexity\n",
    "    - Similar regions\n",
    "    - Repeated sequences\n",
    "    - Sequence rearrangements\n",
    "    - RNA structures\n",
    "    - Gene order\n",
    "\n",
    "Acknowledgement: https://stackoverflow.com/questions/40822400/how-to-create-a-dotplot-of-two-dna-sequence-in-python"
   ]
  },
  {
   "cell_type": "code",
   "execution_count": 177,
   "metadata": {},
   "outputs": [],
   "source": [
    "def delta(x,y):\n",
    "    return 0 if x == y else 1\n",
    "\n",
    "def M(seq1,seq2,i,j,k):\n",
    "    return sum(delta(x,y) for x,y in zip(seq1[i:i+k],seq2[j:j+k]))\n",
    "\n",
    "def makeMatrix(seq1,seq2,k):\n",
    "    n = len(seq1)\n",
    "    m = len(seq2)\n",
    "    return [[M(seq1,seq2,i,j,k) for j in range(m-k+1)] for i in range(n-k+1)]\n",
    "\n",
    "def plotMatrix(M,t, seq1, seq2, nonblank = chr(0x25A0), blank = ' '):\n",
    "    print(' |' + seq2)\n",
    "    print('-'*(2 + len(seq2)))\n",
    "    for label,row in zip(seq1,M):\n",
    "        line = ''.join(nonblank if s < t else blank for s in row)\n",
    "        print(label + '|' + line)\n",
    "\n",
    "def dotplot(seq1,seq2,k = 1,t = 1):\n",
    "    M = makeMatrix(seq1,seq2,k)\n",
    "    plotMatrix(M, t, seq1,seq2) #experiment with character choice"
   ]
  },
  {
   "cell_type": "code",
   "execution_count": 178,
   "metadata": {},
   "outputs": [
    {
     "name": "stdout",
     "output_type": "stream",
     "text": [
      " |AC\n",
      "----\n",
      "A|■ \n",
      "C| ■\n",
      "T|  \n",
      "C| ■\n",
      "G|  \n",
      "A|■ \n"
     ]
    }
   ],
   "source": [
    "# The dot plot: put a dot where the two sequences are identical\n",
    "\n",
    "s1 = 'ACTCGA'\n",
    "s2 = 'AC'\n",
    "\n",
    "dotplot(s1, s2)"
   ]
  },
  {
   "cell_type": "code",
   "execution_count": 199,
   "metadata": {},
   "outputs": [
    {
     "name": "stdout",
     "output_type": "stream",
     "text": [
      " |ACCTAG\n",
      "--------\n",
      "A|■   ■ \n",
      "C| ■■   \n",
      "C| ■■   \n",
      "T|   ■  \n",
      "A|■   ■ \n",
      "G|     ■\n",
      "\n",
      "\n",
      "ACCTAG\n",
      "||||||\n",
      "ACCTAG\n",
      "  Score=6\n",
      " \n"
     ]
    }
   ],
   "source": [
    "#  Identical proteins will show a diagonal line.\n",
    "s1 = 'ACCTAG'\n",
    "s2 = 'ACCTAG'\n",
    "\n",
    "dotplot(s1, s2)\n",
    "\n",
    "print('\\n\\n')\n",
    "hammer_time(s1, s2, verbose=False)"
   ]
  },
  {
   "cell_type": "code",
   "execution_count": null,
   "metadata": {},
   "outputs": [],
   "source": []
  },
  {
   "cell_type": "code",
   "execution_count": null,
   "metadata": {},
   "outputs": [],
   "source": []
  },
  {
   "cell_type": "code",
   "execution_count": null,
   "metadata": {},
   "outputs": [],
   "source": []
  },
  {
   "cell_type": "code",
   "execution_count": null,
   "metadata": {},
   "outputs": [],
   "source": []
  },
  {
   "cell_type": "code",
   "execution_count": null,
   "metadata": {},
   "outputs": [],
   "source": []
  },
  {
   "cell_type": "code",
   "execution_count": null,
   "metadata": {},
   "outputs": [],
   "source": []
  },
  {
   "cell_type": "code",
   "execution_count": null,
   "metadata": {},
   "outputs": [],
   "source": []
  },
  {
   "cell_type": "code",
   "execution_count": null,
   "metadata": {},
   "outputs": [],
   "source": []
  }
 ],
 "metadata": {
  "kernelspec": {
   "display_name": "Python 3",
   "language": "python",
   "name": "python3"
  },
  "language_info": {
   "codemirror_mode": {
    "name": "ipython",
    "version": 3
   },
   "file_extension": ".py",
   "mimetype": "text/x-python",
   "name": "python",
   "nbconvert_exporter": "python",
   "pygments_lexer": "ipython3",
   "version": "3.8.2"
  }
 },
 "nbformat": 4,
 "nbformat_minor": 4
}
