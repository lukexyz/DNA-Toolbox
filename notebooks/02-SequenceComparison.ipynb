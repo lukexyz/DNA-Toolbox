{
 "cells": [
  {
   "cell_type": "markdown",
   "metadata": {},
   "source": [
    "# 🔬 Sequence Comparison of DNA using `BioPython`\n",
    "### 🦠 `Covid-19`, `SARS`, `MERS`, and `Ebola`  \n",
    "\n",
    "#### Analysis Techniques:\n",
    "* Compare their DNA sequence and Protein (Amino Acid) sequence\n",
    "* GC Content\n",
    "* Freq of Each Amino Acids\n",
    "* Find similarity between them\n",
    "  * Alignment\n",
    "  * hamming distance\n",
    "* 3D structure of each\n",
    "\n",
    "| DNA Sequence     | Datasource                                                    |\n",
    "|:-----------------|:--------------------------------------------------------------|\n",
    "| Latest Sequence  | https://www.ncbi.nlm.nih.gov/genbank/sars-cov-2-seqs/         |\n",
    "| Wuhan-Hu-1       | https://www.ncbi.nlm.nih.gov/nuccore/MN908947.3?report=fasta  |\n",
    "| Covid19          | https://www.ncbi.nlm.nih.gov/nuccore/NC_045512.2?report=fasta |\n",
    "| SARS             | https://www.ncbi.nlm.nih.gov/nuccore/NC_004718.3?report=fasta |\n",
    "| MERS             | https://www.ncbi.nlm.nih.gov/nuccore/NC_019843.3?report=fasta |\n",
    "| EBOLA            | https://www.ncbi.nlm.nih.gov/nuccore/NC_002549.1?report=fasta |\n",
    "\n",
    "### 1. Analysis Techniques"
   ]
  },
  {
   "cell_type": "code",
   "execution_count": 467,
   "metadata": {},
   "outputs": [],
   "source": [
    "import warnings\n",
    "warnings.filterwarnings('ignore')\n",
    "import pandas as pd \n",
    "import numpy as np\n",
    "import matplotlib.pyplot as plt\n",
    "import seaborn as sns\n",
    "%matplotlib inline"
   ]
  },
  {
   "cell_type": "code",
   "execution_count": 452,
   "metadata": {},
   "outputs": [],
   "source": [
    "from Bio.Seq import Seq\n",
    "\n",
    "# Create our sequence \n",
    "seq1 = Seq('ACTCGA')\n",
    "seq2 = Seq('AC')"
   ]
  },
  {
   "cell_type": "markdown",
   "metadata": {},
   "source": [
    "\n",
    "#### GC Contents In DNA  \n",
    "\n",
    "* `GC-content` (or guanine-cytosine content) is the **percentage of nitrogenous bases** in a DNA or RNA molecule that are either guanine (`G`) or cytosine (`C`)\n",
    "\n",
    "#### Usefulness  \n",
    "\n",
    "* In polymerase chain reaction (PCR) experiments, the GC-content of short oligonucleotides known as primers is often used to predict their **annealing temperature** to the template DNA.\n",
    "    * A `high` GC-content level indicates a relatively higher melting temperature.\n",
    "    * DNA with `low` GC-content is less stable than DNA with high GC-content  \n",
    "\n",
    "> Question: which sequence is more stable when heat is applied?"
   ]
  },
  {
   "cell_type": "code",
   "execution_count": 46,
   "metadata": {},
   "outputs": [
    {
     "name": "stdout",
     "output_type": "stream",
     "text": [
      "GC(seq1) = 50.0% \t(ACTCGA)\n",
      "GC(seq2) = 50.0% \t(AC)\n"
     ]
    }
   ],
   "source": [
    "from Bio.SeqUtils import GC\n",
    "# Check GC (guanine-cytosine) percentage in sequence\n",
    "\n",
    "print(f\"{GC(seq1) = }% \\t({seq1})\")\n",
    "print(f\"{GC(seq2) = }% \\t({seq2})\")"
   ]
  },
  {
   "cell_type": "markdown",
   "metadata": {},
   "source": [
    "### Sequence Alignment\n",
    "* `Global alignment` finds the best concordance/agreement between all characters in two sequences\n",
    "* `Local Alignment` finds just the subsequences that align the best"
   ]
  },
  {
   "cell_type": "code",
   "execution_count": 103,
   "metadata": {},
   "outputs": [
    {
     "name": "stdout",
     "output_type": "stream",
     "text": [
      "seq1 = ACTCGA \n",
      "seq2 = AC \n",
      "\n",
      "Alignments found: 2\n",
      "('ACTCGA', 'A--C--', 2.0, 0, 6)\n",
      "('ACTCGA', 'AC----', 2.0, 0, 6)\n"
     ]
    }
   ],
   "source": [
    "from Bio import pairwise2\n",
    "from Bio.pairwise2 import format_alignment\n",
    "\n",
    "print('seq1 =', seq1, '\\nseq2 =', seq2, '\\n\\n')\n",
    "\n",
    "# Global alignment\n",
    "alignments = pairwise2.align.globalxx(seq1, seq2)\n",
    "\n",
    "print(f'Alignments found: {len(alignments)}')\n",
    "print(*alignments)"
   ]
  },
  {
   "cell_type": "code",
   "execution_count": 104,
   "metadata": {},
   "outputs": [
    {
     "name": "stdout",
     "output_type": "stream",
     "text": [
      "ACTCGA\n",
      "|  |  \n",
      "A--C--\n",
      "  Score=2\n"
     ]
    }
   ],
   "source": [
    "# Print nicely\n",
    "print(format_alignment(*alignments[0]))"
   ]
  },
  {
   "cell_type": "code",
   "execution_count": 105,
   "metadata": {},
   "outputs": [
    {
     "name": "stdout",
     "output_type": "stream",
     "text": [
      "ACTCGA\n",
      "||    \n",
      "AC----\n",
      "  Score=2\n"
     ]
    }
   ],
   "source": [
    "# 2nd alignment\n",
    "print(format_alignment(*alignments[1]))"
   ]
  },
  {
   "cell_type": "code",
   "execution_count": 106,
   "metadata": {},
   "outputs": [
    {
     "name": "stdout",
     "output_type": "stream",
     "text": [
      "ACTCGA\n",
      "|  |  \n",
      "A--C--\n",
      "  Score=2\n",
      " \n",
      "ACTCGA\n",
      "||    \n",
      "AC----\n",
      "  Score=2\n",
      " \n"
     ]
    }
   ],
   "source": [
    "# To see all possible alignments\n",
    "for a in alignments:\n",
    "    print(format_alignment(*a), '\\n')"
   ]
  },
  {
   "cell_type": "code",
   "execution_count": 107,
   "metadata": {},
   "outputs": [
    {
     "data": {
      "text/plain": [
       "2.0"
      ]
     },
     "execution_count": 107,
     "metadata": {},
     "output_type": "execute_result"
    }
   ],
   "source": [
    "# Get the number of possible sequence alignments\n",
    "alignment_score = pairwise2.align.globalxx(seq1,seq2,one_alignment_only=True,score_only=True)\n",
    "alignment_score"
   ]
  },
  {
   "cell_type": "markdown",
   "metadata": {},
   "source": [
    "#### Sequence Similarity\n",
    "* Fraction of nucleotides that is the same/ total number of nucleotides * 100%"
   ]
  },
  {
   "cell_type": "code",
   "execution_count": 108,
   "metadata": {},
   "outputs": [
    {
     "data": {
      "text/plain": [
       "33.33333333333333"
      ]
     },
     "execution_count": 108,
     "metadata": {},
     "output_type": "execute_result"
    }
   ],
   "source": [
    "alignment_score/len(seq1)*100"
   ]
  },
  {
   "cell_type": "markdown",
   "metadata": {},
   "source": [
    "### Hamming Distance: `How Many Subsitutions are Required to Match Two Sequences?`\n",
    "\n",
    "* Hamming distance between two strings of equal length is the number of positions at which the corresponding symbols are different.\n",
    "* In other words, it measures the minimum number of substitutions required to change one string into the other, or the minimum number of errors that could have transformed one string into the other\n",
    "* It is used for error detection or error correction\n",
    "* It is used to quantify the similarity of DNA sequences  \n",
    "\n",
    "#### Edit Distance\n",
    "   * Is a way of quantifying how dissimilar two strings (e.g., words) are to one another by counting the minimum number of operations required to transform one string into the other (e.g. Levenshtein distance)"
   ]
  },
  {
   "cell_type": "code",
   "execution_count": 109,
   "metadata": {},
   "outputs": [],
   "source": [
    "def hamming_distance(lhs, rhs):\n",
    "    return len([(x,y) for x,y in zip(lhs,rhs) if x != y])"
   ]
  },
  {
   "cell_type": "code",
   "execution_count": 133,
   "metadata": {},
   "outputs": [
    {
     "data": {
      "text/plain": [
       "2"
      ]
     },
     "execution_count": 133,
     "metadata": {},
     "output_type": "execute_result"
    }
   ],
   "source": [
    "hamming_distance('TT', 'ACCTA')"
   ]
  },
  {
   "cell_type": "code",
   "execution_count": 183,
   "metadata": {},
   "outputs": [
    {
     "name": "stdout",
     "output_type": "stream",
     "text": [
      "s1 = ACTCGAA \n",
      "s2 = ACGA \n",
      "\n",
      "Hamming Distance: 2 \n",
      "(min substitutions for sequences to match)\n",
      "\n",
      "Alignment Options:\n",
      "\n",
      "ACTCGAA\n",
      "|  || |\n",
      "A--CG-A\n",
      "  Score=4\n",
      " \n",
      "ACTCGAA\n",
      "||  | |\n",
      "AC--G-A\n",
      "  Score=4\n",
      " \n",
      "ACTCGAA\n",
      "|  ||| \n",
      "A--CGA-\n",
      "  Score=4\n",
      " \n",
      "ACTCGAA\n",
      "||  || \n",
      "AC--GA-\n",
      "  Score=4\n",
      " \n"
     ]
    }
   ],
   "source": [
    "def hammer_time(s1, s2, verbose=True):\n",
    "    \"\"\"Take two nucleotide sequences s1 and s2, and display \n",
    "       the possible alignments and hamming distance.\n",
    "    \"\"\"\n",
    "    if verbose:\n",
    "        print('s1 =', s1, '\\ns2 =', s2, '\\n\\n')\n",
    "        print('Hamming Distance:', hamming_distance(s1, s2), '\\n(min substitutions for sequences to match)')\n",
    "        print('\\nAlignment Options:\\n\\n')\n",
    "    alignments = pairwise2.align.globalxx(s1, s2)\n",
    "    for a in alignments:\n",
    "        print(format_alignment(*a), '\\n')\n",
    "    \n",
    "\n",
    "s1 = 'ACTCGAA'\n",
    "s2 = 'ACGA'\n",
    "hammer_time(s1, s2)"
   ]
  },
  {
   "cell_type": "markdown",
   "metadata": {},
   "source": [
    "### Dot Plot\n",
    "* A dot plot is a graphical method that allows the **comparison of two biological sequences** and identify regions of **close similarity** between them.\n",
    "* Simplest explanation: put a dot wherever sequences are identical\n",
    "\n",
    "#### Usefulness\n",
    "Dot plots can also be used to visually inspect sequences for\n",
    "    - Direct or inverted repeats\n",
    "    - Regions with low sequence complexity\n",
    "    - Similar regions\n",
    "    - Repeated sequences\n",
    "    - Sequence rearrangements\n",
    "    - RNA structures\n",
    "    - Gene order\n",
    "\n",
    "Acknowledgement: https://stackoverflow.com/questions/40822400/how-to-create-a-dotplot-of-two-dna-sequence-in-python"
   ]
  },
  {
   "cell_type": "code",
   "execution_count": 177,
   "metadata": {},
   "outputs": [],
   "source": [
    "def delta(x,y):\n",
    "    return 0 if x == y else 1\n",
    "\n",
    "def M(seq1,seq2,i,j,k):\n",
    "    return sum(delta(x,y) for x,y in zip(seq1[i:i+k],seq2[j:j+k]))\n",
    "\n",
    "def makeMatrix(seq1,seq2,k):\n",
    "    n = len(seq1)\n",
    "    m = len(seq2)\n",
    "    return [[M(seq1,seq2,i,j,k) for j in range(m-k+1)] for i in range(n-k+1)]\n",
    "\n",
    "def plotMatrix(M,t, seq1, seq2, nonblank = chr(0x25A0), blank = ' '):\n",
    "    print(' |' + seq2)\n",
    "    print('-'*(2 + len(seq2)))\n",
    "    for label,row in zip(seq1,M):\n",
    "        line = ''.join(nonblank if s < t else blank for s in row)\n",
    "        print(label + '|' + line)\n",
    "\n",
    "def dotplot(seq1,seq2,k = 1,t = 1):\n",
    "    M = makeMatrix(seq1,seq2,k)\n",
    "    plotMatrix(M, t, seq1,seq2) #experiment with character choice"
   ]
  },
  {
   "cell_type": "code",
   "execution_count": 178,
   "metadata": {},
   "outputs": [
    {
     "name": "stdout",
     "output_type": "stream",
     "text": [
      " |AC\n",
      "----\n",
      "A|■ \n",
      "C| ■\n",
      "T|  \n",
      "C| ■\n",
      "G|  \n",
      "A|■ \n"
     ]
    }
   ],
   "source": [
    "# The dot plot: put a dot where the two sequences are identical\n",
    "\n",
    "s1 = 'ACTCGA'\n",
    "s2 = 'AC'\n",
    "\n",
    "dotplot(s1, s2)"
   ]
  },
  {
   "cell_type": "code",
   "execution_count": 199,
   "metadata": {},
   "outputs": [
    {
     "name": "stdout",
     "output_type": "stream",
     "text": [
      " |ACCTAG\n",
      "--------\n",
      "A|■   ■ \n",
      "C| ■■   \n",
      "C| ■■   \n",
      "T|   ■  \n",
      "A|■   ■ \n",
      "G|     ■\n",
      "\n",
      "\n",
      "ACCTAG\n",
      "||||||\n",
      "ACCTAG\n",
      "  Score=6\n",
      " \n"
     ]
    }
   ],
   "source": [
    "#  Identical proteins will show a diagonal line.\n",
    "s1 = 'ACCTAG'\n",
    "s2 = 'ACCTAG'\n",
    "\n",
    "dotplot(s1, s2)\n",
    "\n",
    "print('\\n\\n')\n",
    "hammer_time(s1, s2, verbose=False)"
   ]
  },
  {
   "cell_type": "markdown",
   "metadata": {},
   "source": [
    "# 🔬 2. Comparative Analysis of Virus DNA\n",
    "### 🦠 `Covid-19`, `SARS`, `MERS`, `Ebola`  \n",
    "\n",
    "\n",
    "* Covid19(`SARS-CoV2`) is a novel coronavirus identified as the cause of coronavirus disease 2019 (COVID-19) that began in Wuhan, China in late 2019 and spread worldwide.\n",
    "* MERS(`MERS-CoV`) was identified in 2012 as the cause of Middle East respiratory syndrome (MERS).\n",
    "* SARS(`SARS-CoV`) was identified in 2002 as the cause of an outbreak of severe acute respiratory syndrome (SARS).\n",
    "\n",
    "#### `fasta` DNA Sequence Files\n",
    "* Covid19 : https://www.rcsb.org/3d-view/6LU7\n",
    "* SARS: https://www.ncbi.nlm.nih.gov/nuccore/NC_004718.3?report=fasta\n",
    "* MERS: https://www.ncbi.nlm.nih.gov/nuccore/NC_019843.3?report=fasta\n",
    "* EBOLA:https://www.rcsb.org/structure/6HS4"
   ]
  },
  {
   "cell_type": "code",
   "execution_count": 400,
   "metadata": {
    "scrolled": true
   },
   "outputs": [
    {
     "data": {
      "text/html": [
       "<div>\n",
       "<style scoped>\n",
       "    .dataframe tbody tr th:only-of-type {\n",
       "        vertical-align: middle;\n",
       "    }\n",
       "\n",
       "    .dataframe tbody tr th {\n",
       "        vertical-align: top;\n",
       "    }\n",
       "\n",
       "    .dataframe thead th {\n",
       "        text-align: right;\n",
       "    }\n",
       "</style>\n",
       "<table border=\"1\" class=\"dataframe\">\n",
       "  <thead>\n",
       "    <tr style=\"text-align: right;\">\n",
       "      <th></th>\n",
       "      <th>name</th>\n",
       "      <th>seq</th>\n",
       "    </tr>\n",
       "  </thead>\n",
       "  <tbody>\n",
       "    <tr>\n",
       "      <th>0</th>\n",
       "      <td>COVID19</td>\n",
       "      <td>(A, T, T, A, A, A, G, G, T, T, T, A, T, A, C, ...</td>\n",
       "    </tr>\n",
       "    <tr>\n",
       "      <th>1</th>\n",
       "      <td>MERS</td>\n",
       "      <td>(G, A, T, T, T, A, A, G, T, G, A, A, T, A, G, ...</td>\n",
       "    </tr>\n",
       "    <tr>\n",
       "      <th>2</th>\n",
       "      <td>SARS</td>\n",
       "      <td>(A, T, A, T, T, A, G, G, T, T, T, T, T, A, C, ...</td>\n",
       "    </tr>\n",
       "    <tr>\n",
       "      <th>3</th>\n",
       "      <td>EBOLA</td>\n",
       "      <td>(C, G, G, A, C, A, C, A, C, A, A, A, A, A, G, ...</td>\n",
       "    </tr>\n",
       "  </tbody>\n",
       "</table>\n",
       "</div>"
      ],
      "text/plain": [
       "      name                                                seq\n",
       "0  COVID19  (A, T, T, A, A, A, G, G, T, T, T, A, T, A, C, ...\n",
       "1     MERS  (G, A, T, T, T, A, A, G, T, G, A, A, T, A, G, ...\n",
       "2     SARS  (A, T, A, T, T, A, G, G, T, T, T, T, T, A, C, ...\n",
       "3    EBOLA  (C, G, G, A, C, A, C, A, C, A, A, A, A, A, G, ..."
      ]
     },
     "execution_count": 400,
     "metadata": {},
     "output_type": "execute_result"
    }
   ],
   "source": [
    "import pandas as pd\n",
    "import numpy as np\n",
    "\n",
    "covid = SeqIO.read(\"../data/01_COVID_MN908947.3.fasta\",\"fasta\")\n",
    "mers = SeqIO.read(\"../data/02_MERS_NC_019843.3.fasta\",\"fasta\")\n",
    "sars = SeqIO.read(\"../data/03_SARS_rcsb_pdb_5XES.fasta\",\"fasta\")\n",
    "ebola = SeqIO.read(\"../data/04_EBOLA_rcsb_pdb_6HS4.fasta\",\"fasta\")\n",
    "\n",
    "# Convert imports to BioPython sequences\n",
    "covid_seq = covid.seq\n",
    "mers_seq = mers.seq\n",
    "sars_seq = sars.seq\n",
    "ebola_seq = ebola.seq\n",
    "\n",
    "# Create dataframe\n",
    "df = pd.DataFrame({'name': ['COVID19', 'MERS', 'SARS', 'EBOLA'],\n",
    "                   'seq': [covid_seq, mers_seq, sars_seq, ebola_seq]})\n",
    "df"
   ]
  },
  {
   "cell_type": "markdown",
   "metadata": {},
   "source": [
    "#### Length of Each Genome"
   ]
  },
  {
   "cell_type": "code",
   "execution_count": 408,
   "metadata": {},
   "outputs": [
    {
     "data": {
      "text/html": [
       "<style  type=\"text/css\" >\n",
       "    #T_6f75aee0_947e_11ea_99b1_77aa15f5faebrow0_col1 {\n",
       "            width:  10em;\n",
       "             height:  80%;\n",
       "            background:  linear-gradient(90deg,#cde8F6 100.0%, transparent 100.0%);\n",
       "        }    #T_6f75aee0_947e_11ea_99b1_77aa15f5faebrow1_col1 {\n",
       "            width:  10em;\n",
       "             height:  80%;\n",
       "            background:  linear-gradient(90deg,#cde8F6 99.3%, transparent 99.3%);\n",
       "        }    #T_6f75aee0_947e_11ea_99b1_77aa15f5faebrow2_col1 {\n",
       "            width:  10em;\n",
       "             height:  80%;\n",
       "            background:  linear-gradient(90deg,#cde8F6 98.8%, transparent 98.8%);\n",
       "        }    #T_6f75aee0_947e_11ea_99b1_77aa15f5faebrow3_col1 {\n",
       "            width:  10em;\n",
       "             height:  80%;\n",
       "            background:  linear-gradient(90deg,#cde8F6 62.9%, transparent 62.9%);\n",
       "        }</style><table id=\"T_6f75aee0_947e_11ea_99b1_77aa15f5faeb\" ><thead>    <tr>        <th class=\"blank level0\" ></th>        <th class=\"col_heading level0 col0\" >name</th>        <th class=\"col_heading level0 col1\" >len</th>    </tr></thead><tbody>\n",
       "                <tr>\n",
       "                        <th id=\"T_6f75aee0_947e_11ea_99b1_77aa15f5faeblevel0_row0\" class=\"row_heading level0 row0\" >1</th>\n",
       "                        <td id=\"T_6f75aee0_947e_11ea_99b1_77aa15f5faebrow0_col0\" class=\"data row0 col0\" >MERS</td>\n",
       "                        <td id=\"T_6f75aee0_947e_11ea_99b1_77aa15f5faebrow0_col1\" class=\"data row0 col1\" >30119</td>\n",
       "            </tr>\n",
       "            <tr>\n",
       "                        <th id=\"T_6f75aee0_947e_11ea_99b1_77aa15f5faeblevel0_row1\" class=\"row_heading level0 row1\" >0</th>\n",
       "                        <td id=\"T_6f75aee0_947e_11ea_99b1_77aa15f5faebrow1_col0\" class=\"data row1 col0\" >COVID19</td>\n",
       "                        <td id=\"T_6f75aee0_947e_11ea_99b1_77aa15f5faebrow1_col1\" class=\"data row1 col1\" >29903</td>\n",
       "            </tr>\n",
       "            <tr>\n",
       "                        <th id=\"T_6f75aee0_947e_11ea_99b1_77aa15f5faeblevel0_row2\" class=\"row_heading level0 row2\" >2</th>\n",
       "                        <td id=\"T_6f75aee0_947e_11ea_99b1_77aa15f5faebrow2_col0\" class=\"data row2 col0\" >SARS</td>\n",
       "                        <td id=\"T_6f75aee0_947e_11ea_99b1_77aa15f5faebrow2_col1\" class=\"data row2 col1\" >29751</td>\n",
       "            </tr>\n",
       "            <tr>\n",
       "                        <th id=\"T_6f75aee0_947e_11ea_99b1_77aa15f5faeblevel0_row3\" class=\"row_heading level0 row3\" >3</th>\n",
       "                        <td id=\"T_6f75aee0_947e_11ea_99b1_77aa15f5faebrow3_col0\" class=\"data row3 col0\" >EBOLA</td>\n",
       "                        <td id=\"T_6f75aee0_947e_11ea_99b1_77aa15f5faebrow3_col1\" class=\"data row3 col1\" >18959</td>\n",
       "            </tr>\n",
       "    </tbody></table>"
      ],
      "text/plain": [
       "<pandas.io.formats.style.Styler at 0x7fd6e8fc72b0>"
      ]
     },
     "execution_count": 408,
     "metadata": {},
     "output_type": "execute_result"
    }
   ],
   "source": [
    "df['len'] = df.seq.apply(lambda x: len(x))\n",
    "\n",
    "df[['name', 'len']].sort_values('len', ascending=False) \\\n",
    "                   .style.bar(color='#cde8F6', vmin=0, width=100, align='left')"
   ]
  },
  {
   "cell_type": "markdown",
   "metadata": {},
   "source": [
    "* `MERS`, `COVID` and `SARS` all have about the same genome length (30,000 base pairs)"
   ]
  },
  {
   "cell_type": "markdown",
   "metadata": {},
   "source": [
    "#### Which of them is more heat stable?"
   ]
  },
  {
   "cell_type": "code",
   "execution_count": 407,
   "metadata": {},
   "outputs": [
    {
     "data": {
      "text/html": [
       "<style  type=\"text/css\" >\n",
       "    #T_6ae39c98_947e_11ea_99b1_77aa15f5faebrow0_col1 {\n",
       "            width:  10em;\n",
       "             height:  80%;\n",
       "            background:  linear-gradient(90deg,#cde8F6 100.0%, transparent 100.0%);\n",
       "        }    #T_6ae39c98_947e_11ea_99b1_77aa15f5faebrow1_col1 {\n",
       "            width:  10em;\n",
       "             height:  80%;\n",
       "            background:  linear-gradient(90deg,#cde8F6 99.6%, transparent 99.6%);\n",
       "        }    #T_6ae39c98_947e_11ea_99b1_77aa15f5faebrow2_col1 {\n",
       "            width:  10em;\n",
       "             height:  80%;\n",
       "            background:  linear-gradient(90deg,#cde8F6 98.8%, transparent 98.8%);\n",
       "        }    #T_6ae39c98_947e_11ea_99b1_77aa15f5faebrow3_col1 {\n",
       "            width:  10em;\n",
       "             height:  80%;\n",
       "            background:  linear-gradient(90deg,#cde8F6 92.1%, transparent 92.1%);\n",
       "        }</style><table id=\"T_6ae39c98_947e_11ea_99b1_77aa15f5faeb\" ><thead>    <tr>        <th class=\"blank level0\" ></th>        <th class=\"col_heading level0 col0\" >name</th>        <th class=\"col_heading level0 col1\" >gc_content</th>    </tr></thead><tbody>\n",
       "                <tr>\n",
       "                        <th id=\"T_6ae39c98_947e_11ea_99b1_77aa15f5faeblevel0_row0\" class=\"row_heading level0 row0\" >1</th>\n",
       "                        <td id=\"T_6ae39c98_947e_11ea_99b1_77aa15f5faebrow0_col0\" class=\"data row0 col0\" >MERS</td>\n",
       "                        <td id=\"T_6ae39c98_947e_11ea_99b1_77aa15f5faebrow0_col1\" class=\"data row0 col1\" >41.236429</td>\n",
       "            </tr>\n",
       "            <tr>\n",
       "                        <th id=\"T_6ae39c98_947e_11ea_99b1_77aa15f5faeblevel0_row1\" class=\"row_heading level0 row1\" >3</th>\n",
       "                        <td id=\"T_6ae39c98_947e_11ea_99b1_77aa15f5faebrow1_col0\" class=\"data row1 col0\" >EBOLA</td>\n",
       "                        <td id=\"T_6ae39c98_947e_11ea_99b1_77aa15f5faebrow1_col1\" class=\"data row1 col1\" >41.072841</td>\n",
       "            </tr>\n",
       "            <tr>\n",
       "                        <th id=\"T_6ae39c98_947e_11ea_99b1_77aa15f5faeblevel0_row2\" class=\"row_heading level0 row2\" >2</th>\n",
       "                        <td id=\"T_6ae39c98_947e_11ea_99b1_77aa15f5faebrow2_col0\" class=\"data row2 col0\" >SARS</td>\n",
       "                        <td id=\"T_6ae39c98_947e_11ea_99b1_77aa15f5faebrow2_col1\" class=\"data row2 col1\" >40.761655</td>\n",
       "            </tr>\n",
       "            <tr>\n",
       "                        <th id=\"T_6ae39c98_947e_11ea_99b1_77aa15f5faeblevel0_row3\" class=\"row_heading level0 row3\" >0</th>\n",
       "                        <td id=\"T_6ae39c98_947e_11ea_99b1_77aa15f5faebrow3_col0\" class=\"data row3 col0\" >COVID19</td>\n",
       "                        <td id=\"T_6ae39c98_947e_11ea_99b1_77aa15f5faebrow3_col1\" class=\"data row3 col1\" >37.972779</td>\n",
       "            </tr>\n",
       "    </tbody></table>"
      ],
      "text/plain": [
       "<pandas.io.formats.style.Styler at 0x7fd6e8f64a30>"
      ]
     },
     "execution_count": 407,
     "metadata": {},
     "output_type": "execute_result"
    }
   ],
   "source": [
    "# Check the GC content\n",
    "df['gc_content'] = df.seq.apply(lambda x: GC(x))\n",
    "\n",
    "df[['name', 'gc_content']].sort_values('gc_content', ascending=False) \\\n",
    "                          .style.bar(color='#cde8F6', vmin=0)"
   ]
  },
  {
   "cell_type": "markdown",
   "metadata": {},
   "source": [
    "* `MERS` is the most stable with a GC of `41.24` followed by Ebola"
   ]
  },
  {
   "cell_type": "markdown",
   "metadata": {},
   "source": [
    "#### Translate RNA into proteins \n",
    "How many proteins are in each dna sequence?"
   ]
  },
  {
   "cell_type": "code",
   "execution_count": 403,
   "metadata": {
    "scrolled": true
   },
   "outputs": [
    {
     "data": {
      "text/html": [
       "<style  type=\"text/css\" >\n",
       "    #T_c04b4bbe_947d_11ea_99b1_77aa15f5faebrow0_col1 {\n",
       "            width:  10em;\n",
       "             height:  80%;\n",
       "            background:  linear-gradient(90deg,#cde8F6 100.0%, transparent 100.0%);\n",
       "        }    #T_c04b4bbe_947d_11ea_99b1_77aa15f5faebrow1_col1 {\n",
       "            width:  10em;\n",
       "             height:  80%;\n",
       "            background:  linear-gradient(90deg,#cde8F6 99.3%, transparent 99.3%);\n",
       "        }    #T_c04b4bbe_947d_11ea_99b1_77aa15f5faebrow2_col1 {\n",
       "            width:  10em;\n",
       "             height:  80%;\n",
       "            background:  linear-gradient(90deg,#cde8F6 98.8%, transparent 98.8%);\n",
       "        }    #T_c04b4bbe_947d_11ea_99b1_77aa15f5faebrow3_col1 {\n",
       "            width:  10em;\n",
       "             height:  80%;\n",
       "            background:  linear-gradient(90deg,#cde8F6 62.9%, transparent 62.9%);\n",
       "        }</style><table id=\"T_c04b4bbe_947d_11ea_99b1_77aa15f5faeb\" ><thead>    <tr>        <th class=\"blank level0\" ></th>        <th class=\"col_heading level0 col0\" >name</th>        <th class=\"col_heading level0 col1\" >proteins</th>    </tr></thead><tbody>\n",
       "                <tr>\n",
       "                        <th id=\"T_c04b4bbe_947d_11ea_99b1_77aa15f5faeblevel0_row0\" class=\"row_heading level0 row0\" >1</th>\n",
       "                        <td id=\"T_c04b4bbe_947d_11ea_99b1_77aa15f5faebrow0_col0\" class=\"data row0 col0\" >MERS</td>\n",
       "                        <td id=\"T_c04b4bbe_947d_11ea_99b1_77aa15f5faebrow0_col1\" class=\"data row0 col1\" >10039</td>\n",
       "            </tr>\n",
       "            <tr>\n",
       "                        <th id=\"T_c04b4bbe_947d_11ea_99b1_77aa15f5faeblevel0_row1\" class=\"row_heading level0 row1\" >0</th>\n",
       "                        <td id=\"T_c04b4bbe_947d_11ea_99b1_77aa15f5faebrow1_col0\" class=\"data row1 col0\" >COVID19</td>\n",
       "                        <td id=\"T_c04b4bbe_947d_11ea_99b1_77aa15f5faebrow1_col1\" class=\"data row1 col1\" >9967</td>\n",
       "            </tr>\n",
       "            <tr>\n",
       "                        <th id=\"T_c04b4bbe_947d_11ea_99b1_77aa15f5faeblevel0_row2\" class=\"row_heading level0 row2\" >2</th>\n",
       "                        <td id=\"T_c04b4bbe_947d_11ea_99b1_77aa15f5faebrow2_col0\" class=\"data row2 col0\" >SARS</td>\n",
       "                        <td id=\"T_c04b4bbe_947d_11ea_99b1_77aa15f5faebrow2_col1\" class=\"data row2 col1\" >9917</td>\n",
       "            </tr>\n",
       "            <tr>\n",
       "                        <th id=\"T_c04b4bbe_947d_11ea_99b1_77aa15f5faeblevel0_row3\" class=\"row_heading level0 row3\" >3</th>\n",
       "                        <td id=\"T_c04b4bbe_947d_11ea_99b1_77aa15f5faebrow3_col0\" class=\"data row3 col0\" >EBOLA</td>\n",
       "                        <td id=\"T_c04b4bbe_947d_11ea_99b1_77aa15f5faebrow3_col1\" class=\"data row3 col1\" >6319</td>\n",
       "            </tr>\n",
       "    </tbody></table>"
      ],
      "text/plain": [
       "<pandas.io.formats.style.Styler at 0x7fd6e8f5c370>"
      ]
     },
     "execution_count": 403,
     "metadata": {},
     "output_type": "execute_result"
    }
   ],
   "source": [
    "# Translate the RNA into Proteins\n",
    "df['proteins'] = df.seq.apply(lambda s: len(s.translate()))\n",
    "\n",
    "df[['name', 'proteins']].sort_values('proteins', ascending=False) \\\n",
    "                        .style.bar(color='#cde8F6', vmin=0)"
   ]
  },
  {
   "cell_type": "markdown",
   "metadata": {},
   "source": [
    "#### How Many Amino Acids are Created?"
   ]
  },
  {
   "cell_type": "code",
   "execution_count": 404,
   "metadata": {},
   "outputs": [],
   "source": [
    "from Bio.SeqUtils.ProtParam import ProteinAnalysis\n",
    "from collections import Counter"
   ]
  },
  {
   "cell_type": "code",
   "execution_count": 409,
   "metadata": {},
   "outputs": [],
   "source": [
    "# Method 1\n",
    "covid_analysed = ProteinAnalysis(str(covid_protein))\n",
    "mers_analysed = ProteinAnalysis(str(mers_protein))\n",
    "sars_analysed = ProteinAnalysis(str(sars_protein))\n",
    "ebola_analysed = ProteinAnalysis(str(ebola_protein))"
   ]
  },
  {
   "cell_type": "code",
   "execution_count": 410,
   "metadata": {},
   "outputs": [
    {
     "data": {
      "text/plain": [
       "{'A': 375,\n",
       " 'C': 635,\n",
       " 'D': 290,\n",
       " 'E': 270,\n",
       " 'F': 593,\n",
       " 'G': 394,\n",
       " 'H': 332,\n",
       " 'I': 436,\n",
       " 'K': 413,\n",
       " 'L': 886,\n",
       " 'M': 117,\n",
       " 'N': 472,\n",
       " 'P': 292,\n",
       " 'Q': 325,\n",
       " 'R': 558,\n",
       " 'S': 810,\n",
       " 'T': 679,\n",
       " 'V': 548,\n",
       " 'W': 263,\n",
       " 'Y': 505}"
      ]
     },
     "execution_count": 410,
     "metadata": {},
     "output_type": "execute_result"
    }
   ],
   "source": [
    "# Check for the Frequence of AA\n",
    "covid_analysed.count_amino_acids()"
   ]
  },
  {
   "cell_type": "code",
   "execution_count": 430,
   "metadata": {},
   "outputs": [
    {
     "data": {
      "text/html": [
       "<div>\n",
       "<style scoped>\n",
       "    .dataframe tbody tr th:only-of-type {\n",
       "        vertical-align: middle;\n",
       "    }\n",
       "\n",
       "    .dataframe tbody tr th {\n",
       "        vertical-align: top;\n",
       "    }\n",
       "\n",
       "    .dataframe thead th {\n",
       "        text-align: right;\n",
       "    }\n",
       "</style>\n",
       "<table border=\"1\" class=\"dataframe\">\n",
       "  <thead>\n",
       "    <tr style=\"text-align: right;\">\n",
       "      <th></th>\n",
       "      <th>name</th>\n",
       "      <th>seq</th>\n",
       "      <th>gc_content</th>\n",
       "      <th>proteins</th>\n",
       "      <th>len</th>\n",
       "      <th>aa_freq</th>\n",
       "    </tr>\n",
       "  </thead>\n",
       "  <tbody>\n",
       "    <tr>\n",
       "      <th>0</th>\n",
       "      <td>COVID19</td>\n",
       "      <td>(A, T, T, A, A, A, G, G, T, T, T, A, T, A, C, ...</td>\n",
       "      <td>37.972779</td>\n",
       "      <td>9967</td>\n",
       "      <td>29903</td>\n",
       "      <td>{'I': 436, 'K': 413, 'G': 394, 'L': 886, 'Y': ...</td>\n",
       "    </tr>\n",
       "    <tr>\n",
       "      <th>1</th>\n",
       "      <td>MERS</td>\n",
       "      <td>(G, A, T, T, T, A, A, G, T, G, A, A, T, A, G, ...</td>\n",
       "      <td>41.236429</td>\n",
       "      <td>10039</td>\n",
       "      <td>30119</td>\n",
       "      <td>{'D': 121, 'L': 1711, 'S': 852, 'E': 157, '*':...</td>\n",
       "    </tr>\n",
       "    <tr>\n",
       "      <th>2</th>\n",
       "      <td>SARS</td>\n",
       "      <td>(A, T, A, T, T, A, G, G, T, T, T, T, T, A, C, ...</td>\n",
       "      <td>40.761655</td>\n",
       "      <td>9917</td>\n",
       "      <td>29751</td>\n",
       "      <td>{'I': 566, 'L': 1368, 'G': 438, 'F': 437, 'Y':...</td>\n",
       "    </tr>\n",
       "    <tr>\n",
       "      <th>3</th>\n",
       "      <td>EBOLA</td>\n",
       "      <td>(C, G, G, A, C, A, C, A, C, A, A, A, A, A, G, ...</td>\n",
       "      <td>41.072841</td>\n",
       "      <td>6319</td>\n",
       "      <td>18959</td>\n",
       "      <td>{'R': 437, 'T': 384, 'H': 235, 'K': 344, 'E': ...</td>\n",
       "    </tr>\n",
       "  </tbody>\n",
       "</table>\n",
       "</div>"
      ],
      "text/plain": [
       "      name                                                seq  gc_content  \\\n",
       "0  COVID19  (A, T, T, A, A, A, G, G, T, T, T, A, T, A, C, ...   37.972779   \n",
       "1     MERS  (G, A, T, T, T, A, A, G, T, G, A, A, T, A, G, ...   41.236429   \n",
       "2     SARS  (A, T, A, T, T, A, G, G, T, T, T, T, T, A, C, ...   40.761655   \n",
       "3    EBOLA  (C, G, G, A, C, A, C, A, C, A, A, A, A, A, G, ...   41.072841   \n",
       "\n",
       "   proteins    len                                            aa_freq  \n",
       "0      9967  29903  {'I': 436, 'K': 413, 'G': 394, 'L': 886, 'Y': ...  \n",
       "1     10039  30119  {'D': 121, 'L': 1711, 'S': 852, 'E': 157, '*':...  \n",
       "2      9917  29751  {'I': 566, 'L': 1368, 'G': 438, 'F': 437, 'Y':...  \n",
       "3      6319  18959  {'R': 437, 'T': 384, 'H': 235, 'K': 344, 'E': ...  "
      ]
     },
     "execution_count": 430,
     "metadata": {},
     "output_type": "execute_result"
    }
   ],
   "source": [
    "# Method 2\n",
    "from collections import Counter\n",
    "\n",
    "# Find the Amino Acid Frequency\n",
    "df['aa_freq'] = df.seq.apply(lambda s: Counter(s.translate()))\n",
    "df"
   ]
  },
  {
   "cell_type": "markdown",
   "metadata": {},
   "source": [
    "#### Most Common Amino Acid"
   ]
  },
  {
   "cell_type": "code",
   "execution_count": 433,
   "metadata": {},
   "outputs": [
    {
     "data": {
      "text/plain": [
       "[('L', 886),\n",
       " ('S', 810),\n",
       " ('*', 774),\n",
       " ('T', 679),\n",
       " ('C', 635),\n",
       " ('F', 593),\n",
       " ('R', 558),\n",
       " ('V', 548),\n",
       " ('Y', 505),\n",
       " ('N', 472)]"
      ]
     },
     "execution_count": 433,
     "metadata": {},
     "output_type": "execute_result"
    }
   ],
   "source": [
    "# For Covid\n",
    "df[df.name=='COVID19'].aa_freq.values[0].most_common(10)"
   ]
  },
  {
   "cell_type": "code",
   "execution_count": 432,
   "metadata": {},
   "outputs": [
    {
     "data": {
      "text/plain": [
       "<BarContainer object of 21 artists>"
      ]
     },
     "execution_count": 432,
     "metadata": {},
     "output_type": "execute_result"
    },
    {
     "data": {
      "image/png": "[encoded data removed]",
      "text/plain": [
       "<Figure size 432x288 with 1 Axes>"
      ]
     },
     "metadata": {
      "needs_background": "light"
     },
     "output_type": "display_data"
    }
   ],
   "source": [
    "# Plot the Amino Acids\n",
    "\n",
    "aa = df[df.name=='COVID19'].aa_freq.values[0]\n",
    "plt.bar(aa.keys(), aa.values())"
   ]
  },
  {
   "cell_type": "code",
   "execution_count": 448,
   "metadata": {},
   "outputs": [
    {
     "data": {
      "image/png": "[encoded data removed]",
      "text/plain": [
       "<Figure size 432x288 with 1 Axes>"
      ]
     },
     "metadata": {
      "needs_background": "light"
     },
     "output_type": "display_data"
    }
   ],
   "source": [
    "for virus in df.name:\n",
    "    aa = df[df.name==virus].aa_freq.values[0]\n",
    "    plt.bar(aa.keys(), aa.values())\n",
    "plt.show()"
   ]
  },
  {
   "cell_type": "markdown",
   "metadata": {},
   "source": [
    "### Dot Plots"
   ]
  },
  {
   "cell_type": "code",
   "execution_count": 460,
   "metadata": {},
   "outputs": [
    {
     "name": "stdout",
     "output_type": "stream",
     "text": [
      " |GATTTAAGTG\n",
      "------------\n",
      "A| ■   ■■   \n",
      "T|  ■■■   ■ \n",
      "T|  ■■■   ■ \n",
      "A| ■   ■■   \n",
      "A| ■   ■■   \n",
      "A| ■   ■■   \n",
      "G|■      ■ ■\n",
      "G|■      ■ ■\n",
      "T|  ■■■   ■ \n",
      "T|  ■■■   ■ \n"
     ]
    }
   ],
   "source": [
    "# Compare Covid and Mers\n",
    "dotplot(covid_seq[0:10],mers_seq[0:10])"
   ]
  },
  {
   "cell_type": "code",
   "execution_count": 458,
   "metadata": {},
   "outputs": [
    {
     "name": "stdout",
     "output_type": "stream",
     "text": [
      " |ATATTAGGTT\n",
      "------------\n",
      "A|■ ■  ■    \n",
      "T| ■ ■■   ■■\n",
      "T| ■ ■■   ■■\n",
      "A|■ ■  ■    \n",
      "A|■ ■  ■    \n",
      "A|■ ■  ■    \n",
      "G|      ■■  \n",
      "G|      ■■  \n",
      "T| ■ ■■   ■■\n",
      "T| ■ ■■   ■■\n"
     ]
    }
   ],
   "source": [
    "# Compare Covid and sars\n",
    "n = 100\n",
    "dotplot(covid_seq[0:n],sars_seq[0:n])"
   ]
  },
  {
   "cell_type": "code",
   "execution_count": 472,
   "metadata": {},
   "outputs": [
    {
     "data": {
      "image/png": "[encoded data removed]",
      "text/plain": [
       "<Figure size 432x288 with 1 Axes>"
      ]
     },
     "metadata": {
      "needs_background": "light"
     },
     "output_type": "display_data"
    }
   ],
   "source": [
    "# Plotting function\n",
    "def dotplotx(seq1, seq2, n):\n",
    "    seq1=seq1[0:n]\n",
    "    seq2=seq2[0:n]\n",
    "    plt.imshow(np.array(makeMatrix(seq1,seq2,1)))\n",
    "    # on x-axis list all sequences of seq 2\n",
    "    xt=plt.xticks(np.arange(len(list(seq2))),list(seq2))\n",
    "    # on y-axis list all sequences of seq 1\n",
    "    yt=plt.yticks(np.arange(len(list(seq1))),list(seq1))\n",
    "    plt.show()\n",
    "    \n",
    "dotplotx(covid_seq, sars_seq, n=100)"
   ]
  },
  {
   "cell_type": "markdown",
   "metadata": {},
   "source": [
    "Notice the large diagonal line for the second half of the first 100 nucleotides - indicating these are the same for `COVID19` and `SARS`"
   ]
  },
  {
   "cell_type": "code",
   "execution_count": 461,
   "metadata": {},
   "outputs": [
    {
     "data": {
      "text/plain": [
       "89.0"
      ]
     },
     "execution_count": 461,
     "metadata": {},
     "output_type": "execute_result"
    }
   ],
   "source": [
    "# Pairwise alignment for the first 100 nucleotide\n",
    "cov_n_sars = pairwise2.align.globalxx(covid_seq[0:100],sars_seq[0:100],one_alignment_only=True,score_only=True)\n",
    "\n",
    "cov_n_sars"
   ]
  },
  {
   "cell_type": "code",
   "execution_count": 466,
   "metadata": {},
   "outputs": [
    {
     "ename": "AttributeError",
     "evalue": "module 'matplotlib' has no attribute 'imshow'",
     "output_type": "error",
     "traceback": [
      "\u001b[0;31m---------------------------------------------------------------------------\u001b[0m",
      "\u001b[0;31mAttributeError\u001b[0m                            Traceback (most recent call last)",
      "\u001b[0;32m<ipython-input-466-9b64cd313dec>\u001b[0m in \u001b[0;36m<module>\u001b[0;34m\u001b[0m\n\u001b[1;32m      1\u001b[0m \u001b[0;31m# Plot\u001b[0m\u001b[0;34m\u001b[0m\u001b[0;34m\u001b[0m\u001b[0;34m\u001b[0m\u001b[0m\n\u001b[0;32m----> 2\u001b[0;31m \u001b[0mplt\u001b[0m\u001b[0;34m.\u001b[0m\u001b[0mimshow\u001b[0m\u001b[0;34m(\u001b[0m\u001b[0mnp\u001b[0m\u001b[0;34m.\u001b[0m\u001b[0marray\u001b[0m\u001b[0;34m(\u001b[0m\u001b[0mmakeMatrix\u001b[0m\u001b[0;34m(\u001b[0m\u001b[0mseq1\u001b[0m\u001b[0;34m,\u001b[0m\u001b[0mseq2\u001b[0m\u001b[0;34m,\u001b[0m\u001b[0;36m1\u001b[0m\u001b[0;34m)\u001b[0m\u001b[0;34m)\u001b[0m\u001b[0;34m)\u001b[0m\u001b[0;34m\u001b[0m\u001b[0;34m\u001b[0m\u001b[0m\n\u001b[0m\u001b[1;32m      3\u001b[0m \u001b[0mxt\u001b[0m\u001b[0;34m=\u001b[0m\u001b[0mplt\u001b[0m\u001b[0;34m.\u001b[0m\u001b[0mxticks\u001b[0m\u001b[0;34m(\u001b[0m\u001b[0mnp\u001b[0m\u001b[0;34m.\u001b[0m\u001b[0marange\u001b[0m\u001b[0;34m(\u001b[0m\u001b[0mlen\u001b[0m\u001b[0;34m(\u001b[0m\u001b[0mlist\u001b[0m\u001b[0;34m(\u001b[0m\u001b[0mseq2\u001b[0m\u001b[0;34m)\u001b[0m\u001b[0;34m)\u001b[0m\u001b[0;34m)\u001b[0m\u001b[0;34m,\u001b[0m\u001b[0mlist\u001b[0m\u001b[0;34m(\u001b[0m\u001b[0mseq2\u001b[0m\u001b[0;34m)\u001b[0m\u001b[0;34m)\u001b[0m\u001b[0;34m\u001b[0m\u001b[0;34m\u001b[0m\u001b[0m\n\u001b[1;32m      4\u001b[0m \u001b[0myt\u001b[0m\u001b[0;34m=\u001b[0m\u001b[0mplt\u001b[0m\u001b[0;34m.\u001b[0m\u001b[0myticks\u001b[0m\u001b[0;34m(\u001b[0m\u001b[0mnp\u001b[0m\u001b[0;34m.\u001b[0m\u001b[0marange\u001b[0m\u001b[0;34m(\u001b[0m\u001b[0mlen\u001b[0m\u001b[0;34m(\u001b[0m\u001b[0mlist\u001b[0m\u001b[0;34m(\u001b[0m\u001b[0mseq1\u001b[0m\u001b[0;34m)\u001b[0m\u001b[0;34m)\u001b[0m\u001b[0;34m)\u001b[0m\u001b[0;34m,\u001b[0m\u001b[0mlist\u001b[0m\u001b[0;34m(\u001b[0m\u001b[0mseq1\u001b[0m\u001b[0;34m)\u001b[0m\u001b[0;34m)\u001b[0m\u001b[0;34m\u001b[0m\u001b[0;34m\u001b[0m\u001b[0m\n\u001b[1;32m      5\u001b[0m \u001b[0mplt\u001b[0m\u001b[0;34m.\u001b[0m\u001b[0mshow\u001b[0m\u001b[0;34m(\u001b[0m\u001b[0;34m)\u001b[0m\u001b[0;34m\u001b[0m\u001b[0;34m\u001b[0m\u001b[0m\n",
      "\u001b[0;31mAttributeError\u001b[0m: module 'matplotlib' has no attribute 'imshow'"
     ]
    }
   ],
   "source": [
    "\n",
    "# Plot \n",
    "plt.imshow(np.array(makeMatrix(seq1,seq2,1)))\n",
    "xt=plt.xticks(np.arange(len(list(seq2))),list(seq2))\n",
    "yt=plt.yticks(np.arange(len(list(seq1))),list(seq1))\n",
    "plt.show()"
   ]
  },
  {
   "cell_type": "code",
   "execution_count": null,
   "metadata": {},
   "outputs": [],
   "source": []
  },
  {
   "cell_type": "code",
   "execution_count": null,
   "metadata": {},
   "outputs": [],
   "source": []
  },
  {
   "cell_type": "code",
   "execution_count": null,
   "metadata": {},
   "outputs": [],
   "source": []
  },
  {
   "cell_type": "code",
   "execution_count": null,
   "metadata": {},
   "outputs": [],
   "source": []
  }
 ],
 "metadata": {
  "kernelspec": {
   "display_name": "Python 3",
   "language": "python",
   "name": "python3"
  },
  "language_info": {
   "codemirror_mode": {
    "name": "ipython",
    "version": 3
   },
   "file_extension": ".py",
   "mimetype": "text/x-python",
   "name": "python",
   "nbconvert_exporter": "python",
   "pygments_lexer": "ipython3",
   "version": "3.8.2"
  }
 },
 "nbformat": 4,
 "nbformat_minor": 4
}
